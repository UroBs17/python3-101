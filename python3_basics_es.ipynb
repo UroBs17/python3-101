{
 "cells": [
  {
   "cell_type": "markdown",
   "metadata": {},
   "source": [
    " ## Introducción\n",
    "\n",
    " * Lenguaje semi interpretado (en su primera ejecución se genera un fichero bytecode con extensión .pyc)\n",
    " * Multiplataforma\n",
    " * Open source\n",
    " * Orientado a objetos\n",
    " * Permite programación imperativa, funcional y orientada a aspectos."
   ]
  },
  {
   "cell_type": "code",
   "execution_count": 181,
   "metadata": {},
   "outputs": [
    {
     "name": "stdout",
     "output_type": "stream",
     "text": [
      "Hola Mundo\n"
     ]
    }
   ],
   "source": [
    "# El hola mundo es tan sencillo como escribir una línea\n",
    "print('Hola Mundo')"
   ]
  },
  {
   "cell_type": "code",
   "execution_count": 182,
   "metadata": {},
   "outputs": [],
   "source": [
    "# Importación de módulos y paquetes para el notebook\n",
    "#from IPython.core.interactiveshell import InteractiveShell\n",
    "#InteractiveShell.ast_node_interactivity = \"all\"\n",
    "import math"
   ]
  },
  {
   "cell_type": "markdown",
   "metadata": {},
   "source": [
    "## Variables\n",
    "Python cuenta con las siguientes características destacables referentes a las variables:\n",
    " * Tiene **tipado dinámico**; no hay que declarar el tipo de variable y además puede cambiarse con una simple asignación de valor.\n",
    " * Es **fuertemente tipado**; no se permite tratar a una variable como si fuera de un tipo distinto al que tiene, es necesario convertir de forma explícita.\n",
    " * No hay que declarar las variables antes de asignarlas. Y si se intentan usar sin haberse asignado saltará una excepción.\n",
    "\n",
    "Por convención las variables se nombran en minúsculas y con guiones bajos para separar palabras.\n",
    "\n",
    "Existen 3 **tipos básicos** de variables:\n",
    " 1. Númericos\n",
    "   * Enteros\n",
    "     * int – tipo por defecto\n",
    "     * long – tipo asignado si el nº es muy grande\n",
    "   * Reales\n",
    "     * Float. P.ej. 0.26, 0.1e-3,…\n",
    "   * Complejos\n",
    "     * Complex. P.ej. 5+7j\n",
    " 2. Cadenas\n",
    "     * str\n",
    "     * unicode\n",
    "     * bytearray\n",
    "     * buffer\n",
    "     * list\n",
    "     * tuple\n",
    " 3. Booleanos\n",
    "     * Bool: True, False\n",
    "\n",
    "Otros tipos **predefinidos**:\n",
    " * Secuencias\n",
    " * Mapas\n",
    " * Ficheros\n",
    " * Clases\n",
    " * Instancias\n",
    " * Excepciones"
   ]
  },
  {
   "cell_type": "markdown",
   "metadata": {},
   "source": [
    "### Tipos numéricos"
   ]
  },
  {
   "cell_type": "code",
   "execution_count": 183,
   "metadata": {},
   "outputs": [
    {
     "name": "stdout",
     "output_type": "stream",
     "text": [
      "2 <class 'int'>\n",
      "15 <class 'int'>\n",
      "2.339 <class 'float'>\n",
      "(1+2j) <class 'complex'>\n"
     ]
    }
   ],
   "source": [
    "# Tipos numéricos\n",
    "i = 2\n",
    "h1 = 0xf\n",
    "f = 2.339\n",
    "c = 1+2j\n",
    "\n",
    "# Para obtener el tipo de una variable cualquiera podemos recurrir siempre a type()\n",
    "print(i, type(i))\n",
    "print(h1, type(h1)) # print as int or long\n",
    "print(f, type(f))\n",
    "print(c, type(c))"
   ]
  },
  {
   "cell_type": "code",
   "execution_count": 184,
   "metadata": {},
   "outputs": [
    {
     "name": "stdout",
     "output_type": "stream",
     "text": [
      "Suma: 1+1 = 2\n",
      "Resta: 1-1 = 0\n",
      "Multiplicación: 2*2 = 4\n",
      "División: 5/2 = 2.5\n",
      "División: 4.0/2 = 2.0\n",
      "División entera: 5//2 = 2\n",
      "Truco para división en Py2: 5/float(2) = 2.5\n",
      "Módulo o resto entero: 5%2 = 1\n",
      "Potencia: 2**3 = 8\n",
      "Valor absoluto: abs(-1) = 1\n",
      "\n",
      "Truncado de decimales: math.trunc(f) = 2\n",
      "Redondeo con n decimales: round(f, 2) = 2.34\n",
      "Redondeo a entero por abajo: math.floor(f) = 2\n",
      "Redondeo a entero por arriba: math.ceil(f) = 3\n",
      "Comparación 1 < 2 <= 2 = True\n",
      "\n",
      "AND a nivel de bit: 5&1 = 1\n",
      "AND a nivel de bit: 5|2 = 7\n",
      "XOR a nivel de bit: 5^1 = 4\n",
      "NOT a nivel de bit: ~1 = -2\n",
      "Desplazamiento dcho: 5>>1 = 2\n",
      "Desplazamiento izdo: 2<<1 = 4\n"
     ]
    }
   ],
   "source": [
    "# Operaciones con tipos numéricos\n",
    "print('Suma: 1+1 =', 1+1)\n",
    "print('Resta: 1-1 =', 1-1)\n",
    "print('Multiplicación: 2*2 =', 2*2)\n",
    "print(\"División: 5/2 =\", 5/2) # En v2 el resultado no es el esperado\n",
    "print(\"División: 4.0/2 =\", 4.0/2) # El resultado es un float si dividendo o divisor es un float\n",
    "print(\"División entera: 5//2 =\", 5//2)\n",
    "print(\"Truco para división en Py2: 5/float(2) =\", 5/float(2))\n",
    "print(\"Módulo o resto entero: 5%2 =\", 5%2)\n",
    "print('Potencia: 2**3 =', 2**3) # Ojo, el _^_ es un XOR a nivel de bit\n",
    "print(\"Valor absoluto: abs(-1) =\", abs(-1))\n",
    "print(\"\")\n",
    "print(\"Truncado de decimales: math.trunc(f) =\", math.trunc(f))\n",
    "print(\"Redondeo con n decimales: round(f, 2) =\", round(f, 2))\n",
    "print(\"Redondeo a entero por abajo: math.floor(f) =\", math.floor(f))\n",
    "print(\"Redondeo a entero por arriba: math.ceil(f) =\", math.ceil(f))\n",
    "print(\"Comparación 1 < 2 <= 2 =\", 1 < 2 <= 2)\n",
    "print(\"\")\n",
    "print(\"AND a nivel de bit: 5&1 =\", 5&1)\n",
    "print(\"AND a nivel de bit: 5|2 =\", 5|2)\n",
    "print(\"XOR a nivel de bit: 5^1 =\", 5^1)\n",
    "print(\"NOT a nivel de bit: ~1 =\", ~1)\n",
    "print(\"Desplazamiento dcho: 5>>1 =\", 5>>1)\n",
    "print(\"Desplazamiento izdo: 2<<1 =\", 2<<1)"
   ]
  },
  {
   "cell_type": "markdown",
   "metadata": {},
   "source": [
    "### Cadenas de caracteres\n",
    "Las cadenas de caracteres son texto definido entre comillas simples o dobles. Se pueden incluir caracteres especiales escapándolos con \\\\. Se trata de objetos inmutables e iterables."
   ]
  },
  {
   "cell_type": "code",
   "execution_count": 185,
   "metadata": {},
   "outputs": [
    {
     "name": "stdout",
     "output_type": "stream",
     "text": [
      "string <class 'str'>\n",
      "äóè <class 'str'>\n",
      "\\n <class 'str'>\n",
      "aeiou <class 'str'>\n",
      "primera linea \n",
      "            y ésto se verá en otra <class 'str'>\n"
     ]
    }
   ],
   "source": [
    "# Tipos de cadenas de texto\n",
    "s = \"string\"\n",
    "unicode = u\"äóè\"\n",
    "raw = r\"\\n\"\n",
    "bytearray = \"aeiou\"\n",
    "docstring = \"\"\"primera linea \n",
    "            y ésto se verá en otra\"\"\"\n",
    "\n",
    "print(s, type(s))\n",
    "print(unicode, type(unicode))\n",
    "print(raw, type(raw))\n",
    "print(bytearray, type(bytearray))\n",
    "print(docstring, type(docstring))"
   ]
  },
  {
   "cell_type": "code",
   "execution_count": 186,
   "metadata": {},
   "outputs": [
    {
     "name": "stdout",
     "output_type": "stream",
     "text": [
      "Longitud: len(s) = 6\n",
      "Concatenación: s + raw = string\\n\n",
      "Repetición: raw*3 = \\n\\n\\n\n",
      "Búsqueda: 'tt' not in s = True\n",
      "Elemento en posición i: s[2]= r\n",
      "Elemento en posición -i: s[-1]= g\n",
      "Subcadena: s[0:2] = st\n",
      "Subcadena con salto: s[0:6:2] = srn\n",
      "\n",
      "Primera aparición de subcadena: 3\n",
      "Número de apariciones de subcadena: 1\n",
      "Elemento mínimo: min(s) = g\n",
      "Elemento máximo: max(s) = t\n",
      "\n",
      "Cadena en minúsculas: string\n",
      "Cadena en mayúsculas: STRING\n",
      "La cadena empieza por s?: True\n",
      "La cadena acaba por s?: True\n",
      "La cadena contiene la subcadena isainjcie en la posición: -1\n",
      "\n",
      "Cadena reemplazando s por sss: ssstring\n",
      "Cadena dividida con split: ['st', 'ing']\n",
      "Cadena re-unida con join: s-t-r-i-n-g\n",
      "Lista convertida en cadena con join: a b c\n",
      "Cadena dividida con split: espacios everywhere\n"
     ]
    }
   ],
   "source": [
    "# Operaciones con cadenas de texto\n",
    "print(\"Longitud: len(s) =\", len(s))\n",
    "print(\"Concatenación: s + raw =\", s + raw)\n",
    "print(\"Repetición: raw*3 =\", raw*3)\n",
    "print(\"Búsqueda: 'tt' not in s =\", \"tt\" not in s)\n",
    "print(\"Elemento en posición i: s[2]=\", s[2]) # los strings pueden ser tratados como listas\n",
    "print(\"Elemento en posición -i: s[-1]=\", s[-1])\n",
    "print(\"Subcadena: s[0:2] =\", s[0:2])\n",
    "print(\"Subcadena con salto: s[0:6:2] =\", s[0:6:2])\n",
    "print()\n",
    "print(\"Primera aparición de subcadena:\", s.index(\"ing\"))\n",
    "print(\"Número de apariciones de subcadena:\", s.count(\"ing\"))\n",
    "print(\"Elemento mínimo: min(s) =\", min(s))\n",
    "print(\"Elemento máximo: max(s) =\", max(s))\n",
    "print()\n",
    "print(\"Cadena en minúsculas:\", s.lower())\n",
    "print(\"Cadena en mayúsculas:\", s.upper())\n",
    "print(\"La cadena empieza por s?:\", s.startswith(s))\n",
    "print(\"La cadena acaba por s?:\", s.endswith(s))\n",
    "print(\"La cadena contiene la subcadena isainjcie en la posición:\", s.find('raw'))\n",
    "print()\n",
    "print(\"Cadena reemplazando s por sss:\", s.replace('s', 'sss'))\n",
    "print(\"Cadena dividida con split:\", s.split('r'))\n",
    "print(\"Cadena re-unida con join:\", '-'.join(s))\n",
    "print(\"Lista convertida en cadena con join:\", ' '.join(['a', 'b', 'c']))\n",
    "print(\"Cadena dividida con split:\", '    espacios everywhere   '.strip())\n",
    "\n",
    "# Los tipos específicos (str, unicode) tienen sus propios métodos para su manipulación."
   ]
  },
  {
   "cell_type": "code",
   "execution_count": 187,
   "metadata": {},
   "outputs": [
    {
     "name": "stdout",
     "output_type": "stream",
     "text": [
      "aquí no es allí\n",
      "aquí no es allí, sólo es aquí\n",
      "Móstoles no es Madrid; es Móstoles\n"
     ]
    }
   ],
   "source": [
    "# Formateo de cadenas de caracteres\n",
    "print(\"{} no es {}\".format('aquí', 'allí'))\n",
    "print(\"{0} no es {1}, sólo es {0}\".format('aquí', 'allí'))\n",
    "print(\"{aqui} no es {alli}; es {aqui}\".format(aqui='Móstoles', alli='Madrid'))"
   ]
  },
  {
   "cell_type": "markdown",
   "metadata": {},
   "source": [
    "### Booleanos\n",
    " * Valores True, False\n",
    " * El tipo bool es subclase del tipo int\n",
    " * Operadores lógicos: and, or, not (textuales)\n",
    " * Operadores relaciones: ==, !=, <, >, <=, >="
   ]
  },
  {
   "cell_type": "code",
   "execution_count": 188,
   "metadata": {},
   "outputs": [
    {
     "name": "stdout",
     "output_type": "stream",
     "text": [
      "True <class 'bool'>\n"
     ]
    }
   ],
   "source": [
    "b = True\n",
    "print(b, type(b))"
   ]
  },
  {
   "cell_type": "code",
   "execution_count": 189,
   "metadata": {},
   "outputs": [
    {
     "name": "stdout",
     "output_type": "stream",
     "text": [
      "Operadores lógicos: not True is... False\n",
      "Operadores lógicos: True and not True or False is... False\n",
      "Operadores relacionales: True != False is... True\n"
     ]
    }
   ],
   "source": [
    "# Operaciones con booleanos\n",
    "print(\"Operadores lógicos: not True is...\", not True)\n",
    "print(\"Operadores lógicos: True and not True or False is...\", True and not True or False)\n",
    "print(\"Operadores relacionales: True != False is...\", True != False)"
   ]
  },
  {
   "cell_type": "code",
   "execution_count": 190,
   "metadata": {},
   "outputs": [
    {
     "name": "stdout",
     "output_type": "stream",
     "text": [
      "False\n",
      "False\n",
      "False\n",
      "False\n",
      "False\n"
     ]
    }
   ],
   "source": [
    "# Se considera False lo siguiente...\n",
    "print(bool(None)) # None (pasado a booleano) equivale a False\n",
    "print(0 == True) # El 0 de cualquier tipo numérico equivale a False\n",
    "print(bool(\"\")) # La cadena vacía equivale a False\n",
    "print(bool({})) # El diccionario vacío equivale a False\n",
    "print(bool([])) # La secuencia vacía equivale a False\n",
    "# Las instancias de una clase de usuario si nonzero() o len() devuelven False o un 0 respectivamente"
   ]
  },
  {
   "cell_type": "markdown",
   "metadata": {},
   "source": [
    "### Manipulación de variables"
   ]
  },
  {
   "cell_type": "code",
   "execution_count": 191,
   "metadata": {},
   "outputs": [
    {
     "name": "stdout",
     "output_type": "stream",
     "text": [
      "None <class 'NoneType'>\n",
      "False\n"
     ]
    }
   ],
   "source": [
    "# Constante None equivalente a null en otros lenguajes\n",
    "print(None, type(None))\n",
    "print(0 is None) # Para comparar con None se usa is en lugar de =="
   ]
  },
  {
   "cell_type": "code",
   "execution_count": 192,
   "metadata": {},
   "outputs": [
    {
     "name": "stdout",
     "output_type": "stream",
     "text": [
      "5 4\n"
     ]
    }
   ],
   "source": [
    "# Asignación de valores múltiple\n",
    "x, y = 4, 5\n",
    "\n",
    "# Intercambio de valores sencillo\n",
    "x, y = y, x\n",
    "print(x, y)"
   ]
  },
  {
   "cell_type": "code",
   "execution_count": 193,
   "metadata": {},
   "outputs": [
    {
     "name": "stdout",
     "output_type": "stream",
     "text": [
      "float(2) = 2.0\n",
      "int(2.5) = 2\n",
      "2*str(2) = 22\n"
     ]
    }
   ],
   "source": [
    "# Conversión entre tipos explícita\n",
    "print('float(2) =', float(2))\n",
    "print('int(2.5) =', int(2.5))\n",
    "print('2*str(2) =', 2*str(2))"
   ]
  },
  {
   "cell_type": "markdown",
   "metadata": {},
   "source": [
    "## Colecciones\n",
    "Existen varios tipos de colecciones en Python:\n",
    " * Listas\n",
    " * Tuplas\n",
    " * Diccionarios\n",
    " * Conjuntos (sets)"
   ]
  },
  {
   "cell_type": "markdown",
   "metadata": {},
   "source": [
    "### Listas\n",
    "Es una colección de elementos mutable, ordenada e iterable; el equivalente a arrays o vectores en otros lenguajes. Puede contener varios tipos de datos distintos a la vez, o incluso listas.\n",
    "\n",
    "Para acceder a sus elementos usaremos los típicos corchetes. Como particularidades:\n",
    " * Podemos usar índices negativos, referidos al final de la lista.\n",
    " * Podemos hacer slicing; seleccionar una parte de la lista usando [inicio:fin] o [inicio:fin:salto]. Si se omite el inicio o el fin se cogerá desde/hasta el extremo. También se puede usar esto para modificar una parte de la lista.\n",
    "\n",
    "NOTA: *La selección y el slicing aplica también al resto de cadenas en Python; tuplas y cadenas de caracteres.*"
   ]
  },
  {
   "cell_type": "code",
   "execution_count": 194,
   "metadata": {},
   "outputs": [
    {
     "name": "stdout",
     "output_type": "stream",
     "text": [
      "l = [22, True, 'una lista', [1, 2]]\n",
      "l[0] = 22\n",
      "l[-1][-2] = 1\n",
      "l[:2] = [22, True]\n",
      "l[::2] = [22, 'una lista']\n"
     ]
    }
   ],
   "source": [
    "# Manipulación de listas\n",
    "l = [22, True, \"una lista\", [1, 2]] # se pueden crear corchetes o con la función list()\n",
    "print(\"l =\", l)\n",
    "print(\"l[0] =\", l[0])\n",
    "print(\"l[-1][-2] =\", l[-1][-2])\n",
    "print(\"l[:2] =\", l[:2])\n",
    "print(\"l[::2] =\", l[::2])"
   ]
  },
  {
   "cell_type": "code",
   "execution_count": 195,
   "metadata": {},
   "outputs": [
    {
     "name": "stdout",
     "output_type": "stream",
     "text": [
      "[0, 1, 2, 3, 4]\n",
      "[1, 2, 3, 4]\n",
      "[1, 4]\n"
     ]
    }
   ],
   "source": [
    "# Creación de listas con range. En Python 3 usamos list(range()) para obtener una lista\n",
    "# porque range es un generador (en Python 2 no)\n",
    "print(list(range(5))) # rango de 0 a 5 (5 no incluido)\n",
    "print(list(range(1,5))) # rango de 1 a 5 (5 no incluido)\n",
    "print(list(range(1,5,3))) # rango de 1 a 5, saltos de 3 (5 no incluido)"
   ]
  },
  {
   "cell_type": "code",
   "execution_count": 196,
   "metadata": {},
   "outputs": [
    {
     "name": "stdout",
     "output_type": "stream",
     "text": [
      "Lista: [22, True, 'una lista', [1, 2]]\n",
      "Lista después de reemplazos: [0, 1, 2, [1, 2]]\n",
      "Elementos de la lista: 0 1 2 [1, 2]\n",
      "Lista después de appends: [0, 1, 2, [1, 2], 123, 456, 789]\n",
      "Lista después de insert: [0, 0, 1, 2, [1, 2], 123, 456, 789]\n",
      "l.pop() => 789\n",
      "Lista después de pop: [0, 0, 1, 2, [1, 2], 123, 456]\n",
      "Lista después de del: [0, 0, 1, 2, [1, 2], 123]\n",
      "Lista después de remove: [0, 0, 1, 2, [1, 2]]\n"
     ]
    }
   ],
   "source": [
    "# Las listas son mutables\n",
    "l = [22, True, 'una lista', [1, 2]]\n",
    "print('Lista:', l)\n",
    "\n",
    "# Reemplazamos elementos\n",
    "l[0:3] = [0, 1, 2]\n",
    "print('Lista después de reemplazos:', l)\n",
    "print('Elementos de la lista:', *l) # Con *<lista> obtenemos los elementos\n",
    "\n",
    "# Añadimos elementos al final\n",
    "l.append(123)\n",
    "l.append(456)\n",
    "l.append(789)\n",
    "print('Lista después de appends:', l)\n",
    "\n",
    "# Añadimos un elemento en una posición concreta desplazando el resto\n",
    "l.insert(0, 0)\n",
    "print('Lista después de insert:', l)\n",
    "\n",
    "# Eliminamos el último elemento. También se le puede indicar la posición del elemento a borrar\n",
    "print('l.pop() =>', l.pop())\n",
    "print('Lista después de pop:', l)\n",
    "\n",
    "# Así también se puede eliminar...\n",
    "del l[len(l)-1]\n",
    "print('Lista después de del:', l)\n",
    "\n",
    "# Eliminamos un elemento (primera aparición) por su valor\n",
    "l.remove(123)\n",
    "print('Lista después de remove:', l)"
   ]
  },
  {
   "cell_type": "code",
   "execution_count": 197,
   "metadata": {},
   "outputs": [
    {
     "name": "stdout",
     "output_type": "stream",
     "text": [
      "Resultado de concatenación: [0, 0, 1, 2, [1, 2], 9, 8]\n",
      "Lista l después de concatenación: [0, 0, 1, 2, [1, 2]]\n",
      "Lista l después de extend: [0, 0, 1, 2, [1, 2], 0, 0, 1, 2, [1, 2]]\n",
      "  0 in l?: True\n",
      "  Count(0): 4\n",
      "  index(1): 2\n",
      "  len(l): 10\n"
     ]
    }
   ],
   "source": [
    "# Podemos concatenar listas\n",
    "print('Resultado de concatenación:', l + [9, 8])\n",
    "print('Lista l después de concatenación:', l)\n",
    "\n",
    "# Extendemos la lista con otra (se modifica). Más rápido que concatenar\n",
    "l.extend(l)\n",
    "print('Lista l después de extend:', l)\n",
    "\n",
    "# Comprobamos existencia de un elemento\n",
    "print('  0 in l?:', 0 in l)\n",
    "print('  Count(0):', l.count(0))\n",
    "print('  index(1):', l.index(1))\n",
    "\n",
    "# Longitud de la lista\n",
    "print('  len(l):', len(l))"
   ]
  },
  {
   "cell_type": "markdown",
   "metadata": {},
   "source": [
    "### Tuplas\n",
    "Son exactamente como las listas pero **inmutables**; una vez creadas no se pueden modificar. Proporcionan mayor eficiencia para usos más básicos.\n",
    "\n",
    "Para definirlas usaremos paréntesis (o nada) en lugar de corchetes. Para tuplas de 1 elemento es necesario poner una coma al final, para diferenciarlo de un elemento básico. Todo lo explicado para lectura de listas es también aplicable para tuplas; para acceder a sus elementos usaremos también corchetes."
   ]
  },
  {
   "cell_type": "code",
   "execution_count": 198,
   "metadata": {},
   "outputs": [
    {
     "name": "stdout",
     "output_type": "stream",
     "text": [
      "(1, 2, True, 'python') <class 'tuple'>\n",
      "(1,) <class 'tuple'>\n",
      "(1,) <class 'tuple'>\n",
      "1 2 True python\n"
     ]
    }
   ],
   "source": [
    "t1 = (1, 2, True, \"python\")\n",
    "print(t1, type(t1))\n",
    "\n",
    "# Podemos definir tuplas con 1 sólo elemento:\n",
    "t2 = (1, )\n",
    "t3 = 1,\n",
    "print(t2, type(t2))\n",
    "print(t3, type(t3))\n",
    "\n",
    "# Podemos extraer los valores de la tupla a variables\n",
    "t1a, t1b, t1c, t1d = t1\n",
    "print (t1a, t1b, t1c, t1d)"
   ]
  },
  {
   "cell_type": "markdown",
   "metadata": {},
   "source": [
    "### Diccionarios\n",
    "Son colecciones iterables, mutables y **sin orden**, que relacionan múltiples valores y claves; lo que se conoce en otros lenguajes como mapa. Se declara con llaves y una sucesión de pares clave : valor. La clave puede ser de cualquier tipo inmutable (incluidas las tuplas) pero única. El valor puede ser de cualquier tipo.\n",
    "\n",
    "A los valores se accede por medio de las claves. En este caso no se puede hacer slicing."
   ]
  },
  {
   "cell_type": "code",
   "execution_count": 199,
   "metadata": {},
   "outputs": [
    {
     "name": "stdout",
     "output_type": "stream",
     "text": [
      "type(d) <class 'dict'>\n",
      "Movie \"Love Actually\" from director: Richard Curtis\n",
      "Movie \"Kill Bill\" from director: Quentin Tarantino\n",
      "Keys: ['Love Actually', 'Kill Bill']\n",
      "Values: ['Richard Curtis', 'Quentin Tarantino']\n",
      "Items: [('Love Actually', 'Richard Curtis'), ('Kill Bill', 'Quentin Tarantino')]\n",
      "\n",
      "Love Actually in d = True\n",
      "d['Love Actually'] = Richard Curtis\n",
      "d.get(\"Love Actual\") =  None\n",
      "d.get(\"Love Actual\", \"No encontrado\") =  No encontrado\n"
     ]
    },
    {
     "data": {
      "text/plain": [
       "'Quentin Tarantino'"
      ]
     },
     "execution_count": 199,
     "metadata": {},
     "output_type": "execute_result"
    },
    {
     "name": "stdout",
     "output_type": "stream",
     "text": [
      "d.get(\"Pulp Fiction\") after first setdefault() =  Quentin Tarantino\n"
     ]
    },
    {
     "data": {
      "text/plain": [
       "'Quentin Tarantino'"
      ]
     },
     "execution_count": 199,
     "metadata": {},
     "output_type": "execute_result"
    },
    {
     "name": "stdout",
     "output_type": "stream",
     "text": [
      "d.get(\"Pulp Fiction\") after second setdefault() =  Quentin Tarantino\n",
      "d.get(\"Pulp Fiction\") after del =  None\n"
     ]
    }
   ],
   "source": [
    "d = {\"Love Actually\": \"Richard Curtis\", \n",
    "    \"Kill Bill\": \"Tarantino\"}\n",
    "d[\"Kill Bill\"] = \"Quentin Tarantino\"\n",
    "print('type(d)', type(d))\n",
    "\n",
    "# Imprimimos todos los elementos con formato\n",
    "for movie, director in d.items():\n",
    "    print('Movie \"{}\" from director: {}'.format(movie, director))\n",
    "    \n",
    "# Obtención de las claves y los valores\n",
    "print(\"Keys:\", list(d.keys()))\n",
    "print(\"Values:\", list(d.values()))\n",
    "print(\"Items:\", list(d.items()))\n",
    "print()\n",
    "\n",
    "# Comprobación de la existencia de una clave\n",
    "print(\"Love Actually in d =\", \"Love Actually\" in d)\n",
    "\n",
    "# Obtener el valor perteneciente a una clave. EVITAR! si no existe la clave tendremos un KeyError\n",
    "print(\"d['Love Actually'] =\", d[\"Love Actually\"])\n",
    "# Obtener el valor perteneciente a una clave evitando excepción si no se encuentra. Permite definir valor por defecto para ese caso\n",
    "print('d.get(\"Love Actual\") = ', d.get(\"Love Actual\"))\n",
    "print('d.get(\"Love Actual\", \"No encontrado\") = ', d.get(\"Love Actual\", \"No encontrado\"))\n",
    "\n",
    "# Incluir de un nuevo elemento, sólo si la clave no existía ya\n",
    "d.setdefault(\"Pulp Fiction\", \"Quentin Tarantino\")\n",
    "print('d.get(\"Pulp Fiction\") after first setdefault() = ', d.get(\"Pulp Fiction\"))\n",
    "d.setdefault(\"Pulp Fiction\", \"Quentin Tarantinoak\")\n",
    "print('d.get(\"Pulp Fiction\") after second setdefault() = ', d.get(\"Pulp Fiction\"))\n",
    "\n",
    "# Eliminar una entrada\n",
    "del d[\"Pulp Fiction\"]\n",
    "print('d.get(\"Pulp Fiction\") after del = ', d.get(\"Pulp Fiction\"))"
   ]
  },
  {
   "cell_type": "code",
   "execution_count": 200,
   "metadata": {},
   "outputs": [
    {
     "name": "stdout",
     "output_type": "stream",
     "text": [
      "{1: 10, 2: 13, 3: 12}\n",
      "max(d) = 3\n",
      "max(d, key=d.get) = 2\n"
     ]
    }
   ],
   "source": [
    "d = {1:10, 2:13, 3:12}\n",
    "print(d)\n",
    "\n",
    "# Obtener el elemento de un diccionario con max key\n",
    "print('max(d) =', max(d))\n",
    "\n",
    "# Obtener el elemento de un diccionario con max value\n",
    "print('max(d, key=d.get) =', max(d, key=d.get))"
   ]
  },
  {
   "cell_type": "markdown",
   "metadata": {},
   "source": [
    " ### Conjuntos\n",
    " Son exactamente como listas pero **sin orden**. Se crean con el método set() o usando llaves en lugar de corchetes.\n",
    "\n",
    " Tienen operaciones propias de los conjuntos que conocemos del mundo real: intersección, unión, diferencia, ..."
   ]
  },
  {
   "cell_type": "code",
   "execution_count": 201,
   "metadata": {},
   "outputs": [
    {
     "name": "stdout",
     "output_type": "stream",
     "text": [
      "Set 1: {1, 2, 3, 'as'} <class 'set'>\n",
      "Set 2: {0, 1, 2} <class 'set'>\n",
      "Dict: {} <class 'dict'>\n",
      "Set 1 después de add: {1, 2, 3, 4, 'as'}\n",
      "Set 1 después de remove: {1, 2, 3, 'as'}\n",
      "Set 1 después de discard: {1, 2, 3, 'as'}\n",
      "set1 & set2: {1, 2}\n",
      "set1 | set2: {0, 1, 2, 3, 'as'}\n",
      "set1 - set2: {3, 'as'}\n",
      "set2 - set1: {0}\n"
     ]
    }
   ],
   "source": [
    "set1 = {1, 2, 3, \"as\"}\n",
    "set2 = set([0, 1, 2])\n",
    "print('Set 1:', set1, type(set1))\n",
    "print('Set 2:', set2, type(set2))\n",
    "\n",
    "# Ojo! con llaves y vacío sería un diccionario, no un conjunto\n",
    "dict = {}\n",
    "print('Dict:', dict, type(dict))\n",
    "\n",
    "# Añadir elementos\n",
    "set1.add(4)\n",
    "set1.add(4) # sin error!\n",
    "print('Set 1 después de add:', set1)\n",
    "\n",
    "# Borrar elementos\n",
    "set1.remove(4)\n",
    "print('Set 1 después de remove:', set1)\n",
    "\n",
    "# Borrar elementos sólo si existen (recomendado)\n",
    "set1.discard(4)\n",
    "print('Set 1 después de discard:', set1)\n",
    "\n",
    "# Intersección de conjuntos con &\n",
    "print(\"set1 & set2:\", set1 & set2)\n",
    "\n",
    "# Unión con |\n",
    "print(\"set1 | set2:\", set1 | set2)\n",
    "\n",
    "# Diferencia con -\n",
    "print(\"set1 - set2:\", set1 - set2)\n",
    "print(\"set2 - set1:\", set2 - set1)"
   ]
  },
  {
   "cell_type": "markdown",
   "metadata": {},
   "source": [
    " ## Control de Flujo\n",
    "\n",
    " Por un lado tenemos las sentencias condicionales, que se reducen a dos (el switch en Python se puede emular con un diccionario). Por otro lado están los bucles."
   ]
  },
  {
   "cell_type": "markdown",
   "metadata": {},
   "source": [
    " ### if... elif... else\n",
    " La forma más simple de crear un condicional es con un **if** seguido de la condición a evaluar, dos puntos (:) y en la siguiente línea e **indentado**, el código a ejecutar en caso de que se cumpla dicha condición."
   ]
  },
  {
   "cell_type": "code",
   "execution_count": 202,
   "metadata": {},
   "outputs": [
    {
     "name": "stdout",
     "output_type": "stream",
     "text": [
      "1:\n",
      "Positivo\n"
     ]
    }
   ],
   "source": [
    "numero = 1\n",
    "print(\"{0}:\".format(numero))\n",
    "if numero < 0: \n",
    "    print(\"Negativo\")\n",
    "elif numero > 0: \n",
    "    print(\"Positivo\")\n",
    "else: \n",
    "    print(\"Cero\")"
   ]
  },
  {
   "cell_type": "markdown",
   "metadata": {},
   "source": [
    " ### Asignación condicional\n",
    " Es el equivalente al operador ternario **?** en otros lenguajes."
   ]
  },
  {
   "cell_type": "code",
   "execution_count": 203,
   "metadata": {},
   "outputs": [
    {
     "name": "stdout",
     "output_type": "stream",
     "text": [
      "impar\n"
     ]
    }
   ],
   "source": [
    "var = \"par\" if (numero % 2 == 0) else \"impar\"\n",
    "print(var)"
   ]
  },
  {
   "cell_type": "markdown",
   "metadata": {},
   "source": [
    " ### while\n",
    " Porción de código que se ejecuta mientras se cumpla una condición.\n",
    "\n",
    " La instrucción **break** nos sirve para salir del bucle. La instrucción **continue** nos llevará a la siguiente ejecución del bucle."
   ]
  },
  {
   "cell_type": "code",
   "execution_count": 204,
   "metadata": {},
   "outputs": [
    {
     "name": "stdout",
     "output_type": "stream",
     "text": [
      "Felicidades, tienes 16\n",
      "Felicidades, tienes 17\n",
      "Felicidades, tienes 18\n"
     ]
    }
   ],
   "source": [
    "edad = 15\n",
    "while edad < 18: \n",
    "    edad = edad + 1\n",
    "    print(\"Felicidades, tienes \" + str(edad))"
   ]
  },
  {
   "cell_type": "markdown",
   "metadata": {},
   "source": [
    " ### for... in\n",
    " Para iterar sobre una secuencia (cadenas, colecciones, iterables como range(), d.keys(), iterators, etc). Lo bueno es que itera sobre los elementos, no sobre las posiciones.\n",
    "\n",
    " Un **iterator** es un iterable sobre el que se puede aplicar la función **\\_\\_next\\_\\_()** para obtener el siguiente elemento, guardando el estado."
   ]
  },
  {
   "cell_type": "code",
   "execution_count": 205,
   "metadata": {},
   "outputs": [
    {
     "name": "stdout",
     "output_type": "stream",
     "text": [
      "Elemento uno leído\n",
      "Elemento dos leído\n",
      "Elemento tres leído\n"
     ]
    }
   ],
   "source": [
    "# Sobre una secuencia\n",
    "secuencia = ['uno', 'dos', 'tres']\n",
    "for elemento in secuencia: \n",
    "    print('Elemento {} leído'.format(elemento))"
   ]
  },
  {
   "cell_type": "code",
   "execution_count": 206,
   "metadata": {},
   "outputs": [
    {
     "name": "stdout",
     "output_type": "stream",
     "text": [
      "Elemento 0 leído: uno\n",
      "Elemento 1 leído: dos\n",
      "Elemento 2 leído: tres\n"
     ]
    }
   ],
   "source": [
    "# Usar enumerate para acceder al elemento y al índice\n",
    "for i, elemento in enumerate(secuencia): \n",
    "    print('Elemento {} leído: {}'.format(i, elemento))"
   ]
  },
  {
   "cell_type": "code",
   "execution_count": 207,
   "metadata": {},
   "outputs": [
    {
     "name": "stdout",
     "output_type": "stream",
     "text": [
      "1\n",
      "2\n",
      "3\n"
     ]
    }
   ],
   "source": [
    "# Sobre un iterable\n",
    "for elemento in d.keys():\n",
    "    print(elemento)"
   ]
  },
  {
   "cell_type": "code",
   "execution_count": 208,
   "metadata": {},
   "outputs": [
    {
     "name": "stdout",
     "output_type": "stream",
     "text": [
      "<class 'dict_keyiterator'>\n",
      "1\n",
      "\n",
      "Elemento en for:  2\n",
      "Elemento en for:  3\n"
     ]
    }
   ],
   "source": [
    "# Sobre un iterador\n",
    "iterator = iter(d.keys())\n",
    "print(type(iterator))\n",
    "\n",
    "# Podemos acceder al siguiente elemento con __next__()\n",
    "print(iterator.__next__()) # también funciona next(iterator)\n",
    "print(\"\") \n",
    "\n",
    "# O podemos recorrerlo en un bucle for, porque un iterador es un iterable\n",
    "for elemento in iterator:\n",
    "    print(\"Elemento en for: \", elemento)\n",
    "\n",
    "# Ojo! Si ejecutamos __next__() cuando el iterator ya ha devuelto todos los datos obtendremos una excepción\n"
   ]
  },
  {
   "cell_type": "markdown",
   "metadata": {},
   "source": [
    " Para manipular los elementos de una secuencia con operaciones como puede ser el borrado, recorreremos una copia del original, de tal forma que al borrar un elemento, del original seguirá estando en la copia y el bucle no se saltará nada. Para la copia podemos hacer copia = secuencia[:] o copia = <collection>(secuencia)"
   ]
  },
  {
   "cell_type": "code",
   "execution_count": 209,
   "metadata": {},
   "outputs": [
    {
     "name": "stdout",
     "output_type": "stream",
     "text": [
      "[1, 2, 3]\n",
      "[2, 3]\n",
      "[3]\n",
      "[]\n"
     ]
    }
   ],
   "source": [
    "secuencia = [1, 2, 3]\n",
    "print(secuencia)\n",
    "for elemento in secuencia[:]:\n",
    "    secuencia.remove(elemento) # borrado sobre el original\n",
    "    print(secuencia)"
   ]
  },
  {
   "cell_type": "markdown",
   "metadata": {},
   "source": [
    " ¿Qué ocurre si no trabajamos con una copia? al borrar el 1º, el 2º pasa a ser el 1º, por lo que no procesamos el 2º"
   ]
  },
  {
   "cell_type": "code",
   "execution_count": 210,
   "metadata": {},
   "outputs": [
    {
     "name": "stdout",
     "output_type": "stream",
     "text": [
      "[1, 2, 3]\n",
      "[2, 3]\n",
      "[2]\n"
     ]
    }
   ],
   "source": [
    "secuencia = [1, 2, 3]\n",
    "print(secuencia)\n",
    "for elemento in secuencia:\n",
    "    secuencia.remove(elemento)\n",
    "    print(secuencia)"
   ]
  },
  {
   "cell_type": "markdown",
   "metadata": {},
   "source": [
    " ### Excepciones\n",
    " En python se usa una construcción try-except para capturar y tratar las excepciones."
   ]
  },
  {
   "cell_type": "code",
   "execution_count": 211,
   "metadata": {},
   "outputs": [
    {
     "name": "stdout",
     "output_type": "stream",
     "text": [
      "La variable no es correcta\n",
      "Limpiando\n"
     ]
    }
   ],
   "source": [
    "# Ejemplo:\n",
    "try:\n",
    "    num = int(\"3a\")\n",
    "    print(\"Hecho!\")\n",
    "except (NameError, ValueError) as e:\n",
    "    print(\"La variable no es correcta\")\n",
    "except:\n",
    "    print(\"Error\")\n",
    "else:\n",
    "    print(\"Esto se ejecuta cuando no hay excepción y no se recoge excepción\")\n",
    "finally:\n",
    "    print(\"Limpiando\")"
   ]
  },
  {
   "cell_type": "markdown",
   "metadata": {},
   "source": [
    " Más adelante veremos cómo crear nuestras propias excepciones.\n",
    "\n",
    " Podemos usar **assert** si queremos comprobar algo y en caso de que no se cumpla automáticamente se lance una excepción de tipo AssertionError."
   ]
  },
  {
   "cell_type": "code",
   "execution_count": 212,
   "metadata": {},
   "outputs": [],
   "source": [
    "assert len(l) > 0 #Raises exception if empty"
   ]
  },
  {
   "cell_type": "markdown",
   "metadata": {},
   "source": [
    " ## Funciones\n",
    " Se conoce así a los fragmentos de código con nombre que devuelvan un valor (si no devolvieran nada se les conocería como “procedimientos”, cosa que no existe en Python). Se usa **def** para definirlas y **return** para devolver valores o tuplas. Si no especificamos un valor de retorno, la función devolverá **None** (el equivalente en Python para Null)."
   ]
  },
  {
   "cell_type": "code",
   "execution_count": 213,
   "metadata": {},
   "outputs": [
    {
     "name": "stdout",
     "output_type": "stream",
     "text": [
      "holahola\n",
      "holahola\n",
      "hola\n"
     ]
    }
   ],
   "source": [
    "# Definimos la función, con un valor por defecto para el 2º parámetro\n",
    "def imprimir(texto, veces=1):\n",
    "    \"\"\"Esta funcion imprime los dos valores pasados \n",
    "    como parametros\"\"\" # Docstring; lo que imprime el operador ? de Python o la función help\n",
    "    \n",
    "    print(texto*veces) # indentado\n",
    "    \n",
    "# Ejecutamos la función de varias formas posibles\n",
    "imprimir(\"hola\", 2)\n",
    "imprimir(veces = 2, texto = \"hola\") \n",
    "imprimir(\"hola\")"
   ]
  },
  {
   "cell_type": "code",
   "execution_count": 214,
   "metadata": {},
   "outputs": [
    {
     "name": "stdout",
     "output_type": "stream",
     "text": [
      "holahola mario luis\n"
     ]
    }
   ],
   "source": [
    "# Podemos crear una función con un número variable de parámetros, precediendo el último de un asterisco. Eso rellenará una tupla con los valores pasados\n",
    "def imprimir2(texto, veces=1, *otros):\n",
    "    print(texto*veces, *otros) # indentado\n",
    "    \n",
    "imprimir2(\"hola\", 2, \"mario\", \"luis\")"
   ]
  },
  {
   "cell_type": "code",
   "execution_count": 215,
   "metadata": {},
   "outputs": [
    {
     "name": "stdout",
     "output_type": "stream",
     "text": [
      "holahola mario luis\n"
     ]
    }
   ],
   "source": [
    "# También existe la opción de poner dos asteriscos para usar un diccionario en lugar de una tupla\n",
    "def imprimir3(texto, veces=1, **otros):\n",
    "    print(texto*veces, *list(otros.values())) # indentado\n",
    "    \n",
    "imprimir3(\"hola\", 2, invitado1 = \"mario\", invitado2 = \"luis\")"
   ]
  },
  {
   "cell_type": "code",
   "execution_count": 216,
   "metadata": {},
   "outputs": [
    {
     "name": "stdout",
     "output_type": "stream",
     "text": [
      "hola mario luis\n"
     ]
    }
   ],
   "source": [
    "# Podemos combinar ambas opciones\n",
    "def imprimir4(*args, **kw_args):\n",
    "    print(*args, *list(kw_args.values())) # indentado\n",
    "    \n",
    "imprimir4(\"hola\", invitado1 = \"mario\", invitado2 = \"luis\")"
   ]
  },
  {
   "cell_type": "code",
   "execution_count": 217,
   "metadata": {},
   "outputs": [
    {
     "name": "stdout",
     "output_type": "stream",
     "text": [
      "0 1\n",
      "1 2\n"
     ]
    }
   ],
   "source": [
    "# De forma análoga podemos detallar los argumentos y desempaquetarlos de una tupla o un diccionario al llamar a la función\n",
    "def func(a, b):\n",
    "    print(a, b)\n",
    "\n",
    "t = (0, 1)\n",
    "func(*t)\n",
    "\n",
    "d = {'a': 1, 'b': 2}\n",
    "func(**d)"
   ]
  },
  {
   "cell_type": "markdown",
   "metadata": {},
   "source": [
    " En Python los valores mutables se pasan a las funciones como referencia, y los inmutables como valor. Esto implica que por ejemplo las modificaciones de una cadena o un entero dentro de una función no tendrán efecto al salir de ella. El caso contrario se observa en la siguiente función:"
   ]
  },
  {
   "cell_type": "code",
   "execution_count": 218,
   "metadata": {},
   "outputs": [
    {
     "name": "stdout",
     "output_type": "stream",
     "text": [
      "[1]\n",
      "[1, 2]\n",
      "[1, 2, 3]\n"
     ]
    }
   ],
   "source": [
    "def func2(a, l=[]):\n",
    "    l.append(a)\n",
    "    return l\n",
    "  \n",
    "print(func2(1))\n",
    "print(func2(2))\n",
    "print(func2(3))"
   ]
  },
  {
   "cell_type": "markdown",
   "metadata": {},
   "source": [
    " ## Clases y objetos\n",
    " En Python todo es un objeto o instancia de una clase.\n",
    "\n",
    " **Comparar objetos**\n",
    "\n",
    " Para comparar el valor de 2 objetos usamos el operador '==', mientras que para comparar 2 objetos usaremos 'is'\n",
    "\n",
    " **Copia de objetos**\n",
    "\n",
    " Cuando hacemos una copia de un objeto mutable en Python, obtenemos una copia de la referencia a su espacio en memoria.\n",
    "\n",
    " Cuando hacemos una copia de un objeto inmutable, obtenemos una copia real del mismo."
   ]
  },
  {
   "cell_type": "code",
   "execution_count": 219,
   "metadata": {},
   "outputs": [
    {
     "name": "stdout",
     "output_type": "stream",
     "text": [
      "[1, 2, 3, 4]\n"
     ]
    }
   ],
   "source": [
    "# Ejemplo\n",
    "ids = [1, 2, 3]\n",
    "ids2 = ids\n",
    "ids.append(4)\n",
    "\n",
    "print(ids2)"
   ]
  },
  {
   "cell_type": "markdown",
   "metadata": {},
   "source": [
    " ### Clases\n",
    " Las clases en Python se declaran de la siguiente forma:"
   ]
  },
  {
   "cell_type": "code",
   "execution_count": 220,
   "metadata": {},
   "outputs": [],
   "source": [
    "class Coche: \n",
    "    \"\"\"Abstraccion de los objetos coche.\"\"\" # docstring\n",
    "    \n",
    "    ruedas = 4  # atributo de clase, compartido por todas las instancias\n",
    "    \n",
    "    # Constructor. Función que se ejecuta al crear un nuevo objeto de la clase.\n",
    "    def __init__(self, marca): \n",
    "        self.marca = marca # variable de objeto\n",
    "    \n",
    "    # Métodos de instancia\n",
    "    def get_brand(self): \n",
    "        return self.marca\n",
    "        \n",
    "    def pintar(self, color): \n",
    "        print(\"Pintar de \", color)\n",
    "      \n",
    "    # Método de clase. Compartido a través de todas las instancias. El argumento no se pone\n",
    "    @classmethod\n",
    "    def get_ruedas(cls):\n",
    "        return cls.ruedas\n",
    "\n",
    "    # Método estático. Llamado sin parámetros\n",
    "    @staticmethod\n",
    "    def cerrar():\n",
    "        print(\"Cerrado\")"
   ]
  },
  {
   "cell_type": "markdown",
   "metadata": {},
   "source": [
    " El primer parámetro de todas sus funciones será self, aunque no hay que escribirlo al hacer las llamadas, ya que lo pone Python automáticamente.\n",
    " Los atributos de la clase serán accedidos desde la propia clase como self.variable y se pueden modificar dentro de cualquier función."
   ]
  },
  {
   "cell_type": "code",
   "execution_count": 221,
   "metadata": {},
   "outputs": [
    {
     "name": "stdout",
     "output_type": "stream",
     "text": [
      "Ruedas: 4\n",
      "Ruedas: 4\n",
      "Ruedas: 4\n",
      "Ruedas: 4\n",
      "Marca: Seat\n",
      "Marca: Seat\n",
      "Cerrado\n",
      "Cerrado\n",
      "<class 'type'>\n",
      "<class '__main__.Coche'>\n"
     ]
    }
   ],
   "source": [
    "# Creación de un objeto, instancia de la clase\n",
    "mi_coche = Coche('Seat')\n",
    "\n",
    "print('Ruedas:', mi_coche.ruedas)\n",
    "print('Ruedas:', Coche.ruedas)\n",
    "\n",
    "print('Ruedas:', mi_coche.get_ruedas())\n",
    "print('Ruedas:', Coche.get_ruedas())\n",
    "\n",
    "print(\"Marca:\", mi_coche.get_brand())\n",
    "print(\"Marca:\", mi_coche.marca)\n",
    "\n",
    "mi_coche.cerrar()\n",
    "Coche.cerrar()\n",
    "\n",
    "print(type(Coche)) #Object\n",
    "print(type(mi_coche)) #Coche"
   ]
  },
  {
   "cell_type": "markdown",
   "metadata": {},
   "source": [
    " Para evitar inicializaciones y demás a la hora de hacer tareas típicas (por ejemplo leer de un fichero) se usa la orden **with** con dicha tarea. Python ejecutará el método \\_\\_enter\\_\\_() del objeto obtenido antes del bloque a continuación, y \\_\\_exit\\_\\_() al acabar dicho bloque. Un ejemplo con el objeto file que ya tiene esos métodos implementados:"
   ]
  },
  {
   "cell_type": "code",
   "execution_count": 222,
   "metadata": {},
   "outputs": [],
   "source": [
    "try:    \n",
    "    with open(\"file.txt\") as f:\n",
    "        for line in f:\n",
    "            print(line)\n",
    "except FileNotFoundError:\n",
    "    pass"
   ]
  },
  {
   "cell_type": "markdown",
   "metadata": {},
   "source": [
    " ### Herencia\n",
    " Para indicar que una clase hereda de otra se coloca el nombre de la clase padre entre paréntesis después del nombre de la clase.\n",
    "\n",
    " En Python se permite la **herencia múltiple**.\n",
    "\n",
    " La nueva clase tiene las funciones de las clases padres referenciadas, y si hay alguna función cuyo nombre se repita en las clases padre, tiene preferencia la función de la primera clase que aparece en la definición.\n",
    "\n",
    " Si la clase hija no define un método __init__(), se llamará automáticamente al de la clase padre; aunque lo adecuado es definirlo, y llamarlo explícitamente."
   ]
  },
  {
   "cell_type": "code",
   "execution_count": 223,
   "metadata": {},
   "outputs": [],
   "source": [
    "# Ejemplo de clase padre\n",
    "class Instrumento():\n",
    "    def __init__(self, tipo):\n",
    "        self.tipo = tipo\n",
    "\n",
    "# Ejemplo de clase hija\n",
    "class Bateria(Instrumento):\n",
    "    def __init__(self, tipo, platillos):\n",
    "        Instrumento.__init__(self, tipo)\n",
    "        self.platillos = platillos"
   ]
  },
  {
   "cell_type": "markdown",
   "metadata": {},
   "source": [
    " ### Polimorfismo y encapsulación\n",
    " **No existe sobrecarga** de métodos en Python; el último método sobrescribiría los anteriores. Pero podemos conseguir el mismo efecto jugando con parámetros de longitud variable, valores por defecto y decoradores.\n",
    "\n",
    " **No existen los modificadores de acceso**. Lo que hace Python es considerar privada toda aquella función que empiece por dos guiones bajos (siempre que no acabe por otros dos, siendo entonces una función especial). En caso contrario la función será pública."
   ]
  },
  {
   "cell_type": "markdown",
   "metadata": {},
   "source": [
    " ### Excepciones propias\n",
    " En Python podemos crear (y lanzar) nuestras propias excepciones. Basta con crear una clase que herede de Exception o cualquiera de sus hijas."
   ]
  },
  {
   "cell_type": "code",
   "execution_count": 224,
   "metadata": {},
   "outputs": [
    {
     "name": "stdout",
     "output_type": "stream",
     "text": [
      "Error 33\n"
     ]
    }
   ],
   "source": [
    "class MiError(Exception):\n",
    "    def __init__(self, valor):\n",
    "        self.valor = valor\n",
    "    def __str__(self):\n",
    "        return \"Error \" + str(self.valor)\n",
    "\n",
    "# Podemos lanzar la excepción con raise y recogerla con except\n",
    "try:\n",
    "    if 22 > 20:\n",
    "        raise MiError(33)\n",
    "except MiError as e:\n",
    "    print(e) # o por ejemplo pass"
   ]
  },
  {
   "cell_type": "markdown",
   "metadata": {},
   "source": [
    " ### Metaclases\n",
    " ¿Qué es una metaclase? Pues es una clase cuyas instancias son clases en lugar de objetos. Es decir, si para construir un objeto usas una clase, para construir una clase usas una metaclase.\n",
    "\n",
    " Resultan muy útiles principalmente para dos cosas:\n",
    " * Cuando no sea posible determinar el tipo de un objeto hasta el momento de la ejecución del programa, o cuando sea necesario crear una clase a la medida de las circunstancias. Se podría decir que en este caso la metaclase funciona como una “fábrica de clases” especializada.\n",
    " * Cuando se desea componer o modificar el comportamiento o características de una clase en el momento de su creación por medio de herencia o por mecanismos de construcción dinámicos. Es algo parecido a la Programación Orientada a Aspectos o como una generalización del patrón decorator.\n",
    "\n",
    "http://crysol.github.io/recipe/2007-06-27/ah-va-la-virgen-metaclases-con-python.html"
   ]
  },
  {
   "cell_type": "code",
   "execution_count": 225,
   "metadata": {},
   "outputs": [
    {
     "name": "stdout",
     "output_type": "stream",
     "text": [
      "3\n",
      "<class 'type'>\n"
     ]
    }
   ],
   "source": [
    " mi_coche = type('Coche',(),{'gasolina':3})\n",
    " print(mi_coche.gasolina)\n",
    " print(type(mi_coche))"
   ]
  },
  {
   "cell_type": "markdown",
   "metadata": {},
   "source": [
    " ## Módulos y paquetes\n",
    " ### Módulos\n",
    " Los módulos son entidades que permiten organizar y dividir lógicamente nuestro código cuando tenemos programas demasiado largos. Los **ficheros** son el equivalente en el mundo físico.\n",
    "\n",
    " Para usar la funcionalidad definida en un módulo, tendremos que importarlo con **import** + nombre del módulo sin extensión de fichero. Esto no sólo deja la funcionalidad disponible, sino que **ejecuta** dicho módulo. Podemos escribir varios módulos separados por comas en la instrucción import.\n",
    "\n",
    " Para usar funciones de los módulos importados, habrá que antecederlas del nombre del módulo y un punto. O podemos usar “from [module] import [function]“ para importar el objeto al espacio de nombres actual y así ahorrarnos escribir el nombre del módulo. También es posible usar “from [module] import *” pero se desaconseja.\n",
    "\n",
    " El atributo \\_\\_doc\\_\\_ nos sirve para documentar el módulo."
   ]
  },
  {
   "cell_type": "code",
   "execution_count": 226,
   "metadata": {},
   "outputs": [],
   "source": [
    "# Opciones de importación:\n",
    "# from math import *          # NO!!!!! importa el módulo y mete todas las funciones al espacio de nombres\n",
    "# import math                 # importa el módulo; ejecución como math.sqrt()\n",
    "# import math as M            # lo mismo usando alias; ejecución como M.sqrt()\n",
    "# from math import sqrt, cos  # SI!!!!! importa una o varias funciones concretas"
   ]
  },
  {
   "cell_type": "markdown",
   "metadata": {},
   "source": [
    " Para importar módulos en otro directorio distinto al nuestro, deberemos tenerlos disponibles en la variable **PYTHONPATH**. Podemos consultar el contenido del path en python ejecutando lo siguiente:"
   ]
  },
  {
   "cell_type": "code",
   "execution_count": 227,
   "metadata": {},
   "outputs": [
    {
     "name": "stdout",
     "output_type": "stream",
     "text": [
      "['C:\\\\Users\\\\Yago\\\\Dropbox\\\\DEV\\\\projects\\\\notebooks', 'C:\\\\ProgramData\\\\Anaconda3\\\\python37.zip', 'C:\\\\ProgramData\\\\Anaconda3\\\\DLLs', 'C:\\\\ProgramData\\\\Anaconda3\\\\lib', 'C:\\\\ProgramData\\\\Anaconda3', '', 'C:\\\\ProgramData\\\\Anaconda3\\\\lib\\\\site-packages', 'C:\\\\ProgramData\\\\Anaconda3\\\\lib\\\\site-packages\\\\win32', 'C:\\\\ProgramData\\\\Anaconda3\\\\lib\\\\site-packages\\\\win32\\\\lib', 'C:\\\\ProgramData\\\\Anaconda3\\\\lib\\\\site-packages\\\\Pythonwin', 'C:\\\\ProgramData\\\\Anaconda3\\\\lib\\\\site-packages\\\\IPython\\\\extensions', 'C:\\\\Users\\\\Yago\\\\.ipython']\n"
     ]
    }
   ],
   "source": [
    "import sys\n",
    "print(sys.path)"
   ]
  },
  {
   "cell_type": "markdown",
   "metadata": {},
   "source": [
    " Podemos imprimir las funciones y atributos de un módulo usando **dir()**"
   ]
  },
  {
   "cell_type": "code",
   "execution_count": 228,
   "metadata": {},
   "outputs": [
    {
     "name": "stdout",
     "output_type": "stream",
     "text": [
      "['__doc__', '__loader__', '__name__', '__package__', '__spec__', 'acos', 'acosh', 'asin', 'asinh', 'atan', 'atan2', 'atanh', 'ceil', 'copysign', 'cos', 'cosh', 'degrees', 'e', 'erf', 'erfc', 'exp', 'expm1', 'fabs', 'factorial', 'floor', 'fmod', 'frexp', 'fsum', 'gamma', 'gcd', 'hypot', 'inf', 'isclose', 'isfinite', 'isinf', 'isnan', 'ldexp', 'lgamma', 'log', 'log10', 'log1p', 'log2', 'modf', 'nan', 'pi', 'pow', 'radians', 'remainder', 'sin', 'sinh', 'sqrt', 'tan', 'tanh', 'tau', 'trunc']\n"
     ]
    }
   ],
   "source": [
    "print(dir(math))"
   ]
  },
  {
   "cell_type": "markdown",
   "metadata": {},
   "source": [
    " Los módulos son también objetos, por lo que pueden tener sus atributos y sus métodos. El atributo __name__ se usa a menudo para ejecutar código sólo si se llama al módulo como programa y no al importarlo."
   ]
  },
  {
   "cell_type": "code",
   "execution_count": 229,
   "metadata": {},
   "outputs": [
    {
     "name": "stdout",
     "output_type": "stream",
     "text": [
      "Ésto se imprime siempre\n",
      "Ésto se imprime si la ejecución no es mediante import\n"
     ]
    }
   ],
   "source": [
    "print(\"Ésto se imprime siempre\")\n",
    "\n",
    "if __name__ == \"__main__\":\n",
    "    print(\"Ésto se imprime si la ejecución no es mediante import\")"
   ]
  },
  {
   "cell_type": "markdown",
   "metadata": {},
   "source": [
    " ### Paquetes\n",
    " Los paquetes sirven para organizar los módulos. En realidad son tipos especiales de módulos (ambos son de tipo module). Los paquetes se representan físicamente como **directorios**.\n",
    "\n",
    " Para hacer que python trate un directorio como un paquete es necesario crear un fichero **\\_\\_init\\_\\_.py** dentro del mismo. En dicho fichero se definen elementos que pertenezcan al paquete, aunque basta con meter un módulo en el directorio para que esté disponible.\n",
    "\n",
    " Al igual que con los módulos, para tenerlos disponibles se usa import:"
   ]
  },
  {
   "cell_type": "code",
   "execution_count": 230,
   "metadata": {},
   "outputs": [],
   "source": [
    "#import paquete.subpaquete.modulo\n",
    "\n",
    "#modulo.func()"
   ]
  },
  {
   "cell_type": "markdown",
   "metadata": {},
   "source": [
    " ## Programación funcional\n",
    " La programación funcional es un paradigma en el que la programación se basa casi en su totalidad en funciones, entendiendo el concepto de función según su definición matemática, y no como los simples subprogramas de los lenguajes imperativos que podamos haber visto hasta ahora. El concepto de variables desaparece, y las funciones no tienen efectos colaterales. El resultado de ejecutar una función 2 veces con la misma entrada será el mismo, con todas las ventajas que eso supone.\n",
    "\n",
    " Python cuenta con varias características de este paradigma.\n",
    "\n",
    " ### Funciones de orden superior\n",
    " Las funciones en Python son de primera clase o de orden superior. Como todo en Python las funciones son objetos: se pueden asignar a una variable o guardar en una estructura, y se pueden pasar como parámetro a otras funciones, o devolverse como resultado de las mismas."
   ]
  },
  {
   "cell_type": "code",
   "execution_count": 231,
   "metadata": {},
   "outputs": [
    {
     "name": "stdout",
     "output_type": "stream",
     "text": [
      "13\n"
     ]
    }
   ],
   "source": [
    "# Ejemplo\n",
    "def crear_suma(x):\n",
    "    def suma(y):\n",
    "        return x + y\n",
    "    return suma\n",
    "\n",
    "suma_10 = crear_suma(10)\n",
    "\n",
    "print(suma_10(3))"
   ]
  },
  {
   "cell_type": "code",
   "execution_count": 232,
   "metadata": {},
   "outputs": [
    {
     "name": "stdout",
     "output_type": "stream",
     "text": [
      "Hola\n"
     ]
    }
   ],
   "source": [
    "# Ejemplo más práctico\n",
    "def saludar(lang):\n",
    "  \n",
    "    def saludar_es():\n",
    "        print(\"Hola\")\n",
    "    def saludar_en():\n",
    "        print(\"Hello\")\n",
    "    def saludar_it():\n",
    "        print(\"Ciao\")\n",
    "\n",
    "    lang_func = {\"es\": saludar_es,\n",
    "                 \"en\": saludar_en,\n",
    "                 \"it\": saludar_it}\n",
    "    \n",
    "    return lang_func[lang]\n",
    "  \n",
    "f = saludar(\"es\") # devuelve una función\n",
    "f() # ejecutamos la función\n",
    "\n",
    "# Podríamos simplificar escribiendo: saludar(\"es\")()"
   ]
  },
  {
   "cell_type": "markdown",
   "metadata": {},
   "source": [
    " ### Iteraciones de orden superior sobre listas\n",
    " Podemos pasar nuestras funciones de orden superior como argumentos a las funciones del core **map**, **filter** y **reduce** (bueno, esta última ya no está en el core). Estas funciones nos permiten sustituir los bucles típicos de otros lenguajes.\n",
    "\n",
    " #### map(function, iterable[, iterable, ...])\n",
    "\n",
    " Devuelve una secuencia (objeto map) con el resultado de aplicar una función a cada elemento de un iterable (o varios iterables, uno a uno). Si se pasan como parámetros n iterables, la función tendrá que aceptar n argumentos. Si alguna de las secuencias es más pequeña que las demás, el valor que le llega a la función para posiciones mayores que el tamaño de dicha secuencia será None."
   ]
  },
  {
   "cell_type": "code",
   "execution_count": 233,
   "metadata": {},
   "outputs": [
    {
     "name": "stdout",
     "output_type": "stream",
     "text": [
      "<map object at 0x000001A38CD4C710>\n",
      "[1, 4, 9]\n"
     ]
    }
   ],
   "source": [
    "# Ejemplo\n",
    "def cuadrado(n):\n",
    "    return n ** 2\n",
    "  \n",
    "l = [1, 2, 3]\n",
    "l2 = map(cuadrado, l)\n",
    "\n",
    "print(l2)\n",
    "print(list(l2))"
   ]
  },
  {
   "cell_type": "code",
   "execution_count": 234,
   "metadata": {},
   "outputs": [
    {
     "name": "stdout",
     "output_type": "stream",
     "text": [
      "['appleorange', 'bananalemon', 'cherrypineapple']\n"
     ]
    }
   ],
   "source": [
    "# Ejemplo con 2 iterables\n",
    "def concat_zip(a, b):\n",
    "  return a + b\n",
    "\n",
    "x = map(concat_zip, ('apple', 'banana', 'cherry'), ('orange', 'lemon', 'pineapple')) \n",
    "print(list(x))\n"
   ]
  },
  {
   "cell_type": "markdown",
   "metadata": {},
   "source": [
    " #### filter(function, iterable)\n",
    "\n",
    " Devuelve una secuencia con los elementos del iterable para los que function devuelve True."
   ]
  },
  {
   "cell_type": "code",
   "execution_count": 235,
   "metadata": {},
   "outputs": [
    {
     "name": "stdout",
     "output_type": "stream",
     "text": [
      "<filter object at 0x000001A38CF5B438>\n",
      "[2, 4, 6]\n"
     ]
    }
   ],
   "source": [
    "# Ejemplo\n",
    "def es_par(n):\n",
    "    return (n % 2.0 == 0)\n",
    "\n",
    "l = [1, 2, 3, 4, 5, 6, 7]\n",
    "f = filter(es_par, l)\n",
    "print(f)\n",
    "print(list(f))"
   ]
  },
  {
   "cell_type": "markdown",
   "metadata": {},
   "source": [
    " #### reduce(function, iterable[, initial])\n",
    "\n",
    "Devuelve el resultado (un valor) de ir aplicando una función a pares de elementos de un iterable. La función aceptará 2 parámetros; el primero es el valor acumulado de la ejecución anterior (initial si es la primera) y el segundo es el elemento actual del iterable. En Python 3 forma parte de **functools**"
   ]
  },
  {
   "cell_type": "code",
   "execution_count": 236,
   "metadata": {},
   "outputs": [
    {
     "name": "stdout",
     "output_type": "stream",
     "text": [
      "120\n"
     ]
    }
   ],
   "source": [
    "from functools import reduce\n",
    "\n",
    "print(reduce((lambda x, y: x * y), [1, 2, 3, 4, 5]))"
   ]
  },
  {
   "cell_type": "markdown",
   "metadata": {},
   "source": [
    " ### Funciones lambda\n",
    " Las funciones lambda son funciones temporales, que no podrán ser referenciadas más tarde.\n",
    "\n",
    " Se construyen mediante el operador lambda, los _parámetros_ de la función separados por comas (**SIN** paréntesis), _dos puntos_ (:) y el _código_ de la función."
   ]
  },
  {
   "cell_type": "code",
   "execution_count": 237,
   "metadata": {},
   "outputs": [
    {
     "name": "stdout",
     "output_type": "stream",
     "text": [
      "1\n"
     ]
    }
   ],
   "source": [
    "# Ejemplo simple\n",
    "print((lambda x: x % 2)(5))"
   ]
  },
  {
   "cell_type": "code",
   "execution_count": 238,
   "metadata": {},
   "outputs": [
    {
     "name": "stdout",
     "output_type": "stream",
     "text": [
      "[2]\n"
     ]
    }
   ],
   "source": [
    "# Ejemplo con filter\n",
    "lista = [1, 2, 3]\n",
    "print(list(filter(lambda n: n % 2.0 == 0, lista)))\n",
    "\n",
    "# La función lambda equivale a:\n",
    "def lambda_function(n):\n",
    "    return n % 2.0 == 0"
   ]
  },
  {
   "cell_type": "code",
   "execution_count": 239,
   "metadata": {},
   "outputs": [
    {
     "name": "stdout",
     "output_type": "stream",
     "text": [
      "[{'x': 4, 'y': 1}, {'x': 2, 'y': 3}]\n"
     ]
    }
   ],
   "source": [
    "# Otro ejemplo con sort (función que ordena una lista atendiendo a una clave):\n",
    "points = [{\"x\": 2, \"y\": 3}, {\"x\": 4, \"y\": 1}]\n",
    "points.sort(key=lambda i: i[\"y\"]) # [{\"y\":1, ..}, {\"y\":3, ..}]\n",
    "print(points)"
   ]
  },
  {
   "cell_type": "markdown",
   "metadata": {},
   "source": [
    " ### Comprensión de listas\n",
    " Construcción que permite crear listas a partir de otras listas. También es aplicable a otros iterables, aunque su uso más habitual es con listas.\n",
    " \n",
    " Su estructura es la siguiente:\n",
    "\n",
    " **[function(x) for x in iterable [if condition]]**\n",
    "\n",
    " **[function(x) if condition [else operation2] for x in iterable]**\n",
    "\n",
    " Cada una de estas construcciones consta de una expresión que determina cómo modificar el elemento de la lista original, seguida de una o varias cláusulas for y opcionalmente una o varias cláusulas if."
   ]
  },
  {
   "cell_type": "code",
   "execution_count": 240,
   "metadata": {},
   "outputs": [
    {
     "name": "stdout",
     "output_type": "stream",
     "text": [
      "[1, 2, 3, 4, 5, 6, 7] \n",
      "\n",
      "[1, 4, 9, 16, 25, 36, 49]\n",
      "[2, 4, 6]\n",
      "[0, 2, 0, 4, 0, 6, 0]\n",
      "2\n"
     ]
    }
   ],
   "source": [
    "print(l, '\\n')\n",
    "\n",
    "# Ejemplo equivalente a map\n",
    "print([n ** 2 for n in l])\n",
    "\n",
    "# Ejemplo equivalente a filter\n",
    "print([n for n in l if n % 2.0 == 0])\n",
    "\n",
    "# Ejemplo con if-else\n",
    "print([n if n % 2 == 0 else 0 for n in l]) # cambia los impares por 0\n",
    "\n",
    "# Ejemplo con doble for\n",
    "print(sum([1 if l[i] + l[j] == 10 else 0 for i in range(len(l)) for j in range(i+1,len(l))])) # 2 combinaciones suman 10"
   ]
  },
  {
   "cell_type": "code",
   "execution_count": 241,
   "metadata": {},
   "outputs": [
    {
     "name": "stdout",
     "output_type": "stream",
     "text": [
      "{4, 5, 6, 7, 8}\n"
     ]
    }
   ],
   "source": [
    "# Comprensión de sets\n",
    "nombres = ['jaime', 'yago', 'iago', 'tiago', 'diego', 'jacobo', 'iacobus', 'santiago']\n",
    "longitudes = {len(nombre) for nombre in nombres}\n",
    "print(longitudes)"
   ]
  },
  {
   "cell_type": "code",
   "execution_count": 242,
   "metadata": {},
   "outputs": [
    {
     "name": "stdout",
     "output_type": "stream",
     "text": [
      "{'jaime': 5, 'yago': 4, 'iago': 4, 'tiago': 5, 'diego': 5, 'jacobo': 6, 'iacobus': 7, 'santiago': 8}\n"
     ]
    }
   ],
   "source": [
    "# Comprensión de diccionarios\n",
    "name_lengths = {nombre:len(nombre) for nombre in nombres}\n",
    "print(name_lengths)"
   ]
  },
  {
   "cell_type": "markdown",
   "metadata": {},
   "source": [
    " ### Generadores\n",
    " Los generadores son similares a la comprensión de listas; de hecho se escriben igual que éstas pero con paréntesis en lugar de corchetes. La diferencia es que no devuelven una lista, sino un generador.\n",
    "\n",
    " Un generador es un tipo especial de función que genera valores sobre los que iterar. Para devolver el siguiente valor sobre el que iterar se usa la palabra clave **yield** en lugar de return. Para iterar sobre el generador se usa por ejemplo un for...in\n",
    "\n",
    " Como no se llega a crear una lista en memoria, sino que se generan valores y se consumen, estamos ahorrando recursos; algo que notaremos con grandes cantidades de datos. No obstante podemos crear una lista a partir de un generador gracias a la función list()."
   ]
  },
  {
   "cell_type": "code",
   "execution_count": 243,
   "metadata": {},
   "outputs": [
    {
     "name": "stdout",
     "output_type": "stream",
     "text": [
      "0\n",
      "1\n",
      "2\n",
      "3\n",
      "4\n",
      "5\n"
     ]
    }
   ],
   "source": [
    "# Ejemplo\n",
    "def mi_generador(n, m, s):\n",
    "    while(n <= m):\n",
    "        yield n\n",
    "        n += s\n",
    "        \n",
    "for n in mi_generador(0, 5, 1):\n",
    "    print(n)"
   ]
  },
  {
   "cell_type": "markdown",
   "metadata": {},
   "source": [
    "### Closures\n",
    "\n",
    "Una clausura es un mecanismo para llamar a una función interna que tiene acceso al scope de su función contenedora"
   ]
  },
  {
   "cell_type": "code",
   "execution_count": 244,
   "metadata": {},
   "outputs": [
    {
     "name": "stdout",
     "output_type": "stream",
     "text": [
      "10.0\n",
      "12.5\n",
      "15.0\n"
     ]
    }
   ],
   "source": [
    "# Ejemplo de función para calcular la media de una serie\n",
    "def construir_calculadora_media():\n",
    "    \n",
    "    series = [] # variable local en el ámbito de la función outer, accesible desde la inner\n",
    "    \n",
    "    def calcular_media(valor):\n",
    "        series.append(valor)\n",
    "        return sum(series)/len(series)\n",
    "    \n",
    "    return calcular_media\n",
    "\n",
    "calcular_media = construir_calculadora_media() # clausura de la función inner\n",
    "print(calcular_media(10))\n",
    "print(calcular_media(15))\n",
    "print(calcular_media(20))"
   ]
  },
  {
   "cell_type": "markdown",
   "metadata": {},
   "source": [
    " ### Decoradores\n",
    " Un decorador es una función que recibe otra función como parámetro y extiende el comportamiento de aquella sin modificarla. Devuelve una función (inner) como resultado (closure).\n",
    "\n",
    " Puede verse como un recubrimiento para funciones; útil por ejemplo para debugging, ejecución con reintentos, tratamiento de excepciones, etc."
   ]
  },
  {
   "cell_type": "code",
   "execution_count": 245,
   "metadata": {},
   "outputs": [
    {
     "name": "stdout",
     "output_type": "stream",
     "text": [
      "Llamada a la función imprimir5\n",
      "hola!\n"
     ]
    }
   ],
   "source": [
    "# Ejemplo\n",
    "def mi_decorador(funcion):\n",
    "    def nueva(*args):\n",
    "        print(\"Llamada a la función\", funcion.__name__)\n",
    "        return funcion(*args)\n",
    "      \n",
    "    return nueva\n",
    "  \n",
    "def imprimir5(texto):\n",
    "    print(texto)\n",
    "\n",
    "mi_decorador(imprimir5)(\"hola!\")"
   ]
  },
  {
   "cell_type": "code",
   "execution_count": 246,
   "metadata": {},
   "outputs": [
    {
     "name": "stdout",
     "output_type": "stream",
     "text": [
      "Llamada a la función imprimir6\n",
      "hola!\n"
     ]
    }
   ],
   "source": [
    "# Si queremos que el decorador se aplique siempre a la función, lo escribiremos como una anotación delante\n",
    "@mi_decorador\n",
    "def imprimir6(texto):\n",
    "    print(texto)\n",
    "\n",
    "imprimir6(\"hola!\")"
   ]
  }
 ],
 "metadata": {
  "file_extension": ".py",
  "kernelspec": {
   "display_name": "Python 3",
   "language": "python",
   "name": "python3"
  },
  "language_info": {
   "codemirror_mode": {
    "name": "ipython",
    "version": 3
   },
   "file_extension": ".py",
   "mimetype": "text/x-python",
   "name": "python",
   "nbconvert_exporter": "python",
   "pygments_lexer": "ipython3",
   "version": "3.7.2"
  },
  "mimetype": "text/x-python",
  "name": "python",
  "npconvert_exporter": "python",
  "pygments_lexer": "ipython3",
  "toc": {
   "base_numbering": "0",
   "nav_menu": {},
   "number_sections": true,
   "sideBar": true,
   "skip_h1_title": false,
   "title_cell": "Table of Contents",
   "title_sidebar": "Contents",
   "toc_cell": false,
   "toc_position": {},
   "toc_section_display": true,
   "toc_window_display": true
  },
  "version": 3
 },
 "nbformat": 4,
 "nbformat_minor": 2
}
