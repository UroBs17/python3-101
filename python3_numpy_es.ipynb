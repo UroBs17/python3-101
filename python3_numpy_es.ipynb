{
 "cells": [
  {
   "cell_type": "markdown",
   "metadata": {
    "toc": true
   },
   "source": [
    "<h1>Mis notas: NumPy<span class=\"tocSkip\"></span></h1>\n",
    "<div class=\"toc\"><ul class=\"toc-item\"><li><span><a href=\"#Intro\" data-toc-modified-id=\"Intro-0\"><span class=\"toc-item-num\">0&nbsp;&nbsp;</span>Intro</a></span></li><li><span><a href=\"#Arrays\" data-toc-modified-id=\"Arrays-1\"><span class=\"toc-item-num\">1&nbsp;&nbsp;</span>Arrays</a></span><ul class=\"toc-item\"><li><span><a href=\"#Creación\" data-toc-modified-id=\"Creación-1.1\"><span class=\"toc-item-num\">1.1&nbsp;&nbsp;</span>Creación</a></span></li><li><span><a href=\"#Atributos\" data-toc-modified-id=\"Atributos-1.2\"><span class=\"toc-item-num\">1.2&nbsp;&nbsp;</span>Atributos</a></span></li><li><span><a href=\"#Indexado\" data-toc-modified-id=\"Indexado-1.3\"><span class=\"toc-item-num\">1.3&nbsp;&nbsp;</span>Indexado</a></span></li><li><span><a href=\"#Slicing\" data-toc-modified-id=\"Slicing-1.4\"><span class=\"toc-item-num\">1.4&nbsp;&nbsp;</span>Slicing</a></span></li><li><span><a href=\"#Sub-arrays\" data-toc-modified-id=\"Sub-arrays-1.5\"><span class=\"toc-item-num\">1.5&nbsp;&nbsp;</span>Sub-arrays</a></span></li><li><span><a href=\"#Copias-de-arrays\" data-toc-modified-id=\"Copias-de-arrays-1.6\"><span class=\"toc-item-num\">1.6&nbsp;&nbsp;</span>Copias de arrays</a></span></li><li><span><a href=\"#Reformateo-de-arrays\" data-toc-modified-id=\"Reformateo-de-arrays-1.7\"><span class=\"toc-item-num\">1.7&nbsp;&nbsp;</span>Reformateo de arrays</a></span></li><li><span><a href=\"#Concatenación-y-división\" data-toc-modified-id=\"Concatenación-y-división-1.8\"><span class=\"toc-item-num\">1.8&nbsp;&nbsp;</span>Concatenación y división</a></span></li></ul></li><li><span><a href=\"#Funciones-universales-de-NumPy\" data-toc-modified-id=\"Funciones-universales-de-NumPy-2\"><span class=\"toc-item-num\">2&nbsp;&nbsp;</span>Funciones universales de NumPy</a></span><ul class=\"toc-item\"><li><span><a href=\"#Funciones-aritméticas\" data-toc-modified-id=\"Funciones-aritméticas-2.1\"><span class=\"toc-item-num\">2.1&nbsp;&nbsp;</span>Funciones aritméticas</a></span></li><li><span><a href=\"#Operadores-de-comparación\" data-toc-modified-id=\"Operadores-de-comparación-2.2\"><span class=\"toc-item-num\">2.2&nbsp;&nbsp;</span>Operadores de comparación</a></span></li><li><span><a href=\"#Operadores-booleanos\" data-toc-modified-id=\"Operadores-booleanos-2.3\"><span class=\"toc-item-num\">2.3&nbsp;&nbsp;</span>Operadores booleanos</a></span></li><li><span><a href=\"#Funciones-para-arrays-booleanos\" data-toc-modified-id=\"Funciones-para-arrays-booleanos-2.4\"><span class=\"toc-item-num\">2.4&nbsp;&nbsp;</span>Funciones para arrays booleanos</a></span></li><li><span><a href=\"#Valor-absoluto\" data-toc-modified-id=\"Valor-absoluto-2.5\"><span class=\"toc-item-num\">2.5&nbsp;&nbsp;</span>Valor absoluto</a></span></li><li><span><a href=\"#Funciones-trigonométricas\" data-toc-modified-id=\"Funciones-trigonométricas-2.6\"><span class=\"toc-item-num\">2.6&nbsp;&nbsp;</span>Funciones trigonométricas</a></span></li><li><span><a href=\"#Funciones-exponenciales-y-logarítmicas\" data-toc-modified-id=\"Funciones-exponenciales-y-logarítmicas-2.7\"><span class=\"toc-item-num\">2.7&nbsp;&nbsp;</span>Funciones exponenciales y logarítmicas</a></span></li><li><span><a href=\"#Funciones-especializadas\" data-toc-modified-id=\"Funciones-especializadas-2.8\"><span class=\"toc-item-num\">2.8&nbsp;&nbsp;</span>Funciones especializadas</a></span></li><li><span><a href=\"#Agregados\" data-toc-modified-id=\"Agregados-2.9\"><span class=\"toc-item-num\">2.9&nbsp;&nbsp;</span>Agregados</a></span></li><li><span><a href=\"#Producto-tensorial\" data-toc-modified-id=\"Producto-tensorial-2.10\"><span class=\"toc-item-num\">2.10&nbsp;&nbsp;</span>Producto tensorial</a></span></li></ul></li><li><span><a href=\"#Agregaciones\" data-toc-modified-id=\"Agregaciones-3\"><span class=\"toc-item-num\">3&nbsp;&nbsp;</span>Agregaciones</a></span></li><li><span><a href=\"#Broadcasting\" data-toc-modified-id=\"Broadcasting-4\"><span class=\"toc-item-num\">4&nbsp;&nbsp;</span>Broadcasting</a></span></li><li><span><a href=\"#Indexado-múltiple\" data-toc-modified-id=\"Indexado-múltiple-5\"><span class=\"toc-item-num\">5&nbsp;&nbsp;</span>Indexado múltiple</a></span></li><li><span><a href=\"#Ordenación-de-arrays\" data-toc-modified-id=\"Ordenación-de-arrays-6\"><span class=\"toc-item-num\">6&nbsp;&nbsp;</span>Ordenación de arrays</a></span><ul class=\"toc-item\"><li><span><a href=\"#Ejemplo:-KNN-(K-Nearest-Neighbours)\" data-toc-modified-id=\"Ejemplo:-KNN-(K-Nearest-Neighbours)-6.1\"><span class=\"toc-item-num\">6.1&nbsp;&nbsp;</span>Ejemplo: KNN (K-Nearest Neighbours)</a></span></li></ul></li><li><span><a href=\"#Arrays-estructurados\" data-toc-modified-id=\"Arrays-estructurados-7\"><span class=\"toc-item-num\">7&nbsp;&nbsp;</span>Arrays estructurados</a></span></li></ul></div>"
   ]
  },
  {
   "cell_type": "markdown",
   "metadata": {},
   "source": [
    "**Disclaimer**: Este notebook contiene mis notas sobre NumPy, resumiendo básicamente el [capítulo 2](https://jakevdp.github.io/PythonDataScienceHandbook/02.00-introduction-to-numpy.html) de [Python Data Science Handbook](https://jakevdp.github.io/PythonDataScienceHandbook/index.html) escrito por [Jake VanderPlas](http://vanderplas.com/). Recomiendo leer la fuente original e ir ejecutando todos los ejemplos (___learn by doing!___).\n",
    "\n",
    "## Intro\n",
    "\n",
    "[NumPy](http://www.numpy.org/) (Numerical Python) es una librería para tratar grandes cantidades de datos. Los arrays de NumPy proporcionan almacenamiento y operaciones mucho más eficientes que los arrays estándar de Python cuando los datos empiezan a crecer. Esto convierte a NumPy en parte indispensable dentro del ecosistema de Data Science con Python.\n",
    "\n",
    "Para poder usar NumPy, simplemente tendremos que importar la librería :)"
   ]
  },
  {
   "cell_type": "code",
   "execution_count": 1,
   "metadata": {},
   "outputs": [],
   "source": [
    "# NumPy suele importarse con el alias np\n",
    "import numpy as np\n",
    "\n",
    "# np?"
   ]
  },
  {
   "cell_type": "markdown",
   "metadata": {},
   "source": [
    "Igual que un tipo primitivo es más que un simple valor en Python por el tipado dinámico (en realidad se trata de una estructura de C), una lista es más que una simple lista de objetos (pueden albergar todo tipo de objetos simultáneamente). \n",
    "\n",
    "Esta flexibilidad tiene un precio, ya que cada objeto en una lista debe incluir información del tipo (entre otras cosas). En el caso de que todos los elementos fueran de un mismo tipo podríamos eliminar la redundancia para ganar en eficiencia de almacenado; esto es precisamente lo que aporta el objeto **array** disponible en Python desde la versión 3.3.\n",
    "\n",
    "El objeto **ndarray** de NumPy (o array de NumPy a secas), aparte de las ventajas del array, aporta también operaciones eficientes sobre sus datos."
   ]
  },
  {
   "cell_type": "markdown",
   "metadata": {},
   "source": [
    "## Arrays\n",
    "\n",
    "### Creación\n",
    "\n",
    "Podemos crear arrays a partir de listas, usando el método:\n",
    "\n",
    "**np.array(`<list>`[, dtype='`<type>`'])**\n",
    "\n",
    "Para ver la lista de tipos básicos de NumPy: [Doc:  Data types](https://docs.scipy.org/doc/numpy/user/basics.types.html)"
   ]
  },
  {
   "cell_type": "code",
   "execution_count": 2,
   "metadata": {},
   "outputs": [
    {
     "data": {
      "text/plain": [
       "array([1, 2, 3])"
      ]
     },
     "execution_count": 2,
     "metadata": {},
     "output_type": "execute_result"
    }
   ],
   "source": [
    "# Ejemplo con integer\n",
    "np.array([1, 2, 3])"
   ]
  },
  {
   "cell_type": "code",
   "execution_count": 3,
   "metadata": {},
   "outputs": [
    {
     "data": {
      "text/plain": [
       "array([1. , 2.5, 3. ])"
      ]
     },
     "execution_count": 3,
     "metadata": {},
     "output_type": "execute_result"
    }
   ],
   "source": [
    "# Ejemplo con tipos integer y float => upcasting a float!\n",
    "np.array([1, 2.5, 3])"
   ]
  },
  {
   "cell_type": "markdown",
   "metadata": {},
   "source": [
    "También podemos crear arrays sin usar una lista:"
   ]
  },
  {
   "cell_type": "code",
   "execution_count": 4,
   "metadata": {},
   "outputs": [
    {
     "data": {
      "text/plain": [
       "array([1.11261502e-306, 8.01057147e-307, 2.11392033e-307, 1.60216183e-306])"
      ]
     },
     "execution_count": 4,
     "metadata": {},
     "output_type": "execute_result"
    }
   ],
   "source": [
    "# Crear un array vacío (muestra lo que sea que haya en memoria). Útil para inicializarlo.\n",
    "np.empty(4) "
   ]
  },
  {
   "cell_type": "code",
   "execution_count": 5,
   "metadata": {},
   "outputs": [
    {
     "data": {
      "text/plain": [
       "array([0, 2, 4, 6, 8])"
      ]
     },
     "execution_count": 5,
     "metadata": {},
     "output_type": "execute_result"
    }
   ],
   "source": [
    "# Crear un array usando un intervalo, indicando el salto\n",
    "np.arange(0, 10, 2)"
   ]
  },
  {
   "cell_type": "code",
   "execution_count": 6,
   "metadata": {},
   "outputs": [
    {
     "data": {
      "text/plain": [
       "array([0. , 1.5, 3. , 4.5, 6. , 7.5, 9. ])"
      ]
     },
     "execution_count": 6,
     "metadata": {},
     "output_type": "execute_result"
    }
   ],
   "source": [
    "# Crear un array usando un intervalo, indicando el número de elementos\n",
    "np.linspace(0, 9, 7) "
   ]
  },
  {
   "cell_type": "code",
   "execution_count": 7,
   "metadata": {},
   "outputs": [
    {
     "data": {
      "text/plain": [
       "array([0., 0., 0., 0., 0.])"
      ]
     },
     "execution_count": 7,
     "metadata": {},
     "output_type": "execute_result"
    }
   ],
   "source": [
    "# Crear un array de ceros (float por defecto)\n",
    "np.zeros(5)"
   ]
  },
  {
   "cell_type": "code",
   "execution_count": 8,
   "metadata": {},
   "outputs": [
    {
     "data": {
      "text/plain": [
       "array([0, 0, 0, 0, 0])"
      ]
     },
     "execution_count": 8,
     "metadata": {},
     "output_type": "execute_result"
    }
   ],
   "source": [
    "# Especificando el tipo.\n",
    "np.zeros(5, dtype='int')"
   ]
  },
  {
   "cell_type": "code",
   "execution_count": 9,
   "metadata": {},
   "outputs": [
    {
     "data": {
      "text/plain": [
       "array([[1, 1, 1],\n",
       "       [1, 1, 1],\n",
       "       [1, 1, 1]])"
      ]
     },
     "execution_count": 9,
     "metadata": {},
     "output_type": "execute_result"
    }
   ],
   "source": [
    "# Crear una matriz (array bidimensional) de unos. Ojo cómo definimos el tipo (opción b)\n",
    "np.ones((3, 3), dtype=np.int)"
   ]
  },
  {
   "cell_type": "code",
   "execution_count": 10,
   "metadata": {},
   "outputs": [
    {
     "data": {
      "text/plain": [
       "array([[[3.14, 3.14],\n",
       "        [3.14, 3.14]],\n",
       "\n",
       "       [[3.14, 3.14],\n",
       "        [3.14, 3.14]]])"
      ]
     },
     "execution_count": 10,
     "metadata": {},
     "output_type": "execute_result"
    }
   ],
   "source": [
    "# Crear una matriz con un valor concreto. Esta vez probamos con un array de 3 dimensiones!\n",
    "np.full((2, 2, 2), 3.14)"
   ]
  },
  {
   "cell_type": "code",
   "execution_count": 11,
   "metadata": {},
   "outputs": [
    {
     "data": {
      "text/plain": [
       "array([[0.5488135 , 0.71518937, 0.60276338],\n",
       "       [0.54488318, 0.4236548 , 0.64589411],\n",
       "       [0.43758721, 0.891773  , 0.96366276]])"
      ]
     },
     "execution_count": 11,
     "metadata": {},
     "output_type": "execute_result"
    }
   ],
   "source": [
    "# Crear una matriz de números aleatorios entre 0 y 1\n",
    "np.random.seed(0) # semilla para reproducibilidad\n",
    "np.random.random((3, 3))"
   ]
  },
  {
   "cell_type": "code",
   "execution_count": 12,
   "metadata": {},
   "outputs": [
    {
     "data": {
      "text/plain": [
       "array([[1, 6, 7],\n",
       "       [7, 8, 1],\n",
       "       [5, 9, 8]])"
      ]
     },
     "execution_count": 12,
     "metadata": {},
     "output_type": "execute_result"
    }
   ],
   "source": [
    "# Crear una matriz de números enteros aleatorios dentro de un intervalo\n",
    "np.random.randint(0, 10, (3, 3))"
   ]
  },
  {
   "cell_type": "code",
   "execution_count": 13,
   "metadata": {},
   "outputs": [
    {
     "data": {
      "text/plain": [
       "array([[1., 0., 0.],\n",
       "       [0., 1., 0.],\n",
       "       [0., 0., 1.]])"
      ]
     },
     "execution_count": 13,
     "metadata": {},
     "output_type": "execute_result"
    }
   ],
   "source": [
    "# Crear una matriz identidad\n",
    "np.eye(3, 3)"
   ]
  },
  {
   "cell_type": "markdown",
   "metadata": {},
   "source": [
    "### Atributos"
   ]
  },
  {
   "cell_type": "code",
   "execution_count": 14,
   "metadata": {},
   "outputs": [
    {
     "data": {
      "text/plain": [
       "array([[[0.0871293 , 0.0202184 ],\n",
       "        [0.83261985, 0.77815675]],\n",
       "\n",
       "       [[0.87001215, 0.97861834],\n",
       "        [0.79915856, 0.46147936]]])"
      ]
     },
     "execution_count": 14,
     "metadata": {},
     "output_type": "execute_result"
    }
   ],
   "source": [
    "# Array tridimensional de ejemplo\n",
    "m = np.random.random((2, 2, 2))\n",
    "m"
   ]
  },
  {
   "cell_type": "code",
   "execution_count": 15,
   "metadata": {},
   "outputs": [
    {
     "name": "stdout",
     "output_type": "stream",
     "text": [
      "m.ndim = 3\n",
      "m.shape = (2, 2, 2)\n",
      "m.size = 8\n",
      "m.dtype = float64\n",
      "m.itemsize = 8\n",
      "m.nbytes = 64\n"
     ]
    }
   ],
   "source": [
    "# Atributos comunes\n",
    "print('m.ndim =', m.ndim)          # dimensiones\n",
    "print('m.shape =', m.shape)        # tamaño\n",
    "print('m.size =', m.size)          # nº de elementos\n",
    "print('m.dtype =', m.dtype)        # tipo\n",
    "print('m.itemsize =', m.itemsize)  # tamaño de cada elemento, en bytes\n",
    "print('m.nbytes =', m.nbytes)      # tamaño total"
   ]
  },
  {
   "cell_type": "markdown",
   "metadata": {},
   "source": [
    "### Indexado"
   ]
  },
  {
   "cell_type": "code",
   "execution_count": 16,
   "metadata": {},
   "outputs": [],
   "source": [
    "# Array de ejemplo\n",
    "a = np.arange(0,10)"
   ]
  },
  {
   "cell_type": "code",
   "execution_count": 17,
   "metadata": {},
   "outputs": [
    {
     "data": {
      "text/plain": [
       "0"
      ]
     },
     "execution_count": 17,
     "metadata": {},
     "output_type": "execute_result"
    }
   ],
   "source": [
    "# Acceso a un elemento de un array\n",
    "a[0]"
   ]
  },
  {
   "cell_type": "code",
   "execution_count": 18,
   "metadata": {},
   "outputs": [
    {
     "data": {
      "text/plain": [
       "9"
      ]
     },
     "execution_count": 18,
     "metadata": {},
     "output_type": "execute_result"
    }
   ],
   "source": [
    "# Acceso a un elemento por el final\n",
    "a[-1]"
   ]
  },
  {
   "cell_type": "code",
   "execution_count": 19,
   "metadata": {},
   "outputs": [
    {
     "data": {
      "text/plain": [
       "0.08712929970154071"
      ]
     },
     "execution_count": 19,
     "metadata": {},
     "output_type": "execute_result"
    }
   ],
   "source": [
    "# Acceso a un elemento de una matriz\n",
    "m[0, 0, 0] # equivalente a m[0][0][0]"
   ]
  },
  {
   "cell_type": "markdown",
   "metadata": {},
   "source": [
    "### Slicing"
   ]
  },
  {
   "cell_type": "code",
   "execution_count": 20,
   "metadata": {},
   "outputs": [
    {
     "data": {
      "text/plain": [
       "array([0, 2, 4])"
      ]
     },
     "execution_count": 20,
     "metadata": {},
     "output_type": "execute_result"
    }
   ],
   "source": [
    "# [start:stop:step]\n",
    "a[0:6:2]"
   ]
  },
  {
   "cell_type": "code",
   "execution_count": 21,
   "metadata": {},
   "outputs": [
    {
     "data": {
      "text/plain": [
       "array([3, 2, 1])"
      ]
     },
     "execution_count": 21,
     "metadata": {},
     "output_type": "execute_result"
    }
   ],
   "source": [
    "# [start:stop:step] desde el final\n",
    "a[3:0:-1] # 9 8 7 6 5 4 [3 2 1] 0"
   ]
  },
  {
   "cell_type": "code",
   "execution_count": 22,
   "metadata": {},
   "outputs": [
    {
     "data": {
      "text/plain": [
       "array([1, 3, 5, 7, 9])"
      ]
     },
     "execution_count": 22,
     "metadata": {},
     "output_type": "execute_result"
    }
   ],
   "source": [
    "# Uno de cada 2 empezando por el segundo elemento\n",
    "a[1::2]"
   ]
  },
  {
   "cell_type": "code",
   "execution_count": 23,
   "metadata": {},
   "outputs": [
    {
     "data": {
      "text/plain": [
       "array([[[0.0871293 ],\n",
       "        [0.83261985]]])"
      ]
     },
     "execution_count": 23,
     "metadata": {},
     "output_type": "execute_result"
    }
   ],
   "source": [
    "# Arrays multidimensionales\n",
    "m[:1, :2, :1] "
   ]
  },
  {
   "cell_type": "code",
   "execution_count": 24,
   "metadata": {},
   "outputs": [
    {
     "data": {
      "text/plain": [
       "array([[0, 1, 2, 3, 4, 5, 6, 7, 8, 9],\n",
       "       [0, 1, 2, 3, 4, 5, 6, 7, 8, 9]])"
      ]
     },
     "execution_count": 24,
     "metadata": {},
     "output_type": "execute_result"
    }
   ],
   "source": [
    "a_2_10 = np.array([a, a])\n",
    "a_2_10"
   ]
  },
  {
   "cell_type": "code",
   "execution_count": 25,
   "metadata": {},
   "outputs": [
    {
     "name": "stdout",
     "output_type": "stream",
     "text": [
      "[0 0]\n"
     ]
    }
   ],
   "source": [
    "# Elementos de la primera columna\n",
    "print(a_2_10[:,0])"
   ]
  },
  {
   "cell_type": "code",
   "execution_count": 26,
   "metadata": {},
   "outputs": [
    {
     "name": "stdout",
     "output_type": "stream",
     "text": [
      "[0 1 2 3 4 5 6 7 8 9]\n"
     ]
    }
   ],
   "source": [
    "# Elementos de la primera fila\n",
    "print(a_2_10[0,:]) # Equivalente a aa[0]"
   ]
  },
  {
   "cell_type": "markdown",
   "metadata": {},
   "source": [
    "### Sub-arrays\n",
    "Si creamos un sub-array y modificamos algo del mismo, se modificará el array original. Este comportamiento por defecto nos permite cargar una parte de un dataset para operar sobre los datos, evitando cargar el array completo cuando éste es demasiado grande."
   ]
  },
  {
   "cell_type": "code",
   "execution_count": 27,
   "metadata": {},
   "outputs": [
    {
     "data": {
      "text/plain": [
       "array([[0, 1],\n",
       "       [0, 1]])"
      ]
     },
     "execution_count": 27,
     "metadata": {},
     "output_type": "execute_result"
    }
   ],
   "source": [
    "a_2_2 = a_2_10[:2,:2]\n",
    "a_2_2"
   ]
  },
  {
   "cell_type": "code",
   "execution_count": 28,
   "metadata": {},
   "outputs": [
    {
     "data": {
      "text/plain": [
       "array([[10,  1],\n",
       "       [10,  1]])"
      ]
     },
     "execution_count": 28,
     "metadata": {},
     "output_type": "execute_result"
    }
   ],
   "source": [
    "a_2_2[:,0] = [10, 10]\n",
    "a_2_2"
   ]
  },
  {
   "cell_type": "code",
   "execution_count": 29,
   "metadata": {},
   "outputs": [
    {
     "data": {
      "text/plain": [
       "array([[10,  1,  2,  3,  4,  5,  6,  7,  8,  9],\n",
       "       [10,  1,  2,  3,  4,  5,  6,  7,  8,  9]])"
      ]
     },
     "execution_count": 29,
     "metadata": {},
     "output_type": "execute_result"
    }
   ],
   "source": [
    "a_2_10"
   ]
  },
  {
   "cell_type": "markdown",
   "metadata": {},
   "source": [
    "### Copias de arrays\n",
    "Si queremos crear una copia de un array o parte del mismo, tendremos que usar la función **copy()**"
   ]
  },
  {
   "cell_type": "code",
   "execution_count": 30,
   "metadata": {},
   "outputs": [
    {
     "data": {
      "text/plain": [
       "array([[10,  1],\n",
       "       [10,  1]])"
      ]
     },
     "execution_count": 30,
     "metadata": {},
     "output_type": "execute_result"
    }
   ],
   "source": [
    "a_2_10_copy = a_2_10[:2,:2].copy()\n",
    "a_2_10_copy"
   ]
  },
  {
   "cell_type": "markdown",
   "metadata": {},
   "source": [
    "### Reformateo de arrays\n",
    "Útil para cambiar la forma de un array. Eso sí, el número de elementos tendrá que encajar. Tenemos las funciones **reshape** y **newaxis**"
   ]
  },
  {
   "cell_type": "code",
   "execution_count": 31,
   "metadata": {},
   "outputs": [
    {
     "data": {
      "text/plain": [
       "array([[1, 2, 3],\n",
       "       [4, 5, 6],\n",
       "       [7, 8, 9]])"
      ]
     },
     "execution_count": 31,
     "metadata": {},
     "output_type": "execute_result"
    }
   ],
   "source": [
    "# Paso de un array unidimensional (9) a uno bidimensional (3,3)\n",
    "np.arange(1, 10).reshape((3, 3)) "
   ]
  },
  {
   "cell_type": "code",
   "execution_count": 32,
   "metadata": {},
   "outputs": [
    {
     "data": {
      "text/plain": [
       "array([[1, 2, 3, 4, 5, 6, 7, 8, 9]])"
      ]
     },
     "execution_count": 32,
     "metadata": {},
     "output_type": "execute_result"
    }
   ],
   "source": [
    "# Paso de un array unidimensional (9) a uno bidimensional (1,9)\n",
    "np.arange(1, 10).reshape((1, 9))"
   ]
  },
  {
   "cell_type": "code",
   "execution_count": 33,
   "metadata": {},
   "outputs": [
    {
     "data": {
      "text/plain": [
       "array([[0, 1, 2, 3, 4, 5, 6, 7, 8, 9]])"
      ]
     },
     "execution_count": 33,
     "metadata": {},
     "output_type": "execute_result"
    }
   ],
   "source": [
    "# Lo mismo usando newaxis\n",
    "a[np.newaxis, :]"
   ]
  },
  {
   "cell_type": "markdown",
   "metadata": {},
   "source": [
    "### Concatenación y división"
   ]
  },
  {
   "cell_type": "code",
   "execution_count": 34,
   "metadata": {},
   "outputs": [
    {
     "data": {
      "text/plain": [
       "array([0, 1, 2, 3, 4, 5, 6, 7, 8, 9, 0, 1, 2, 3, 4, 5, 6, 7, 8, 9, 0, 1,\n",
       "       2, 3, 4, 5, 6, 7, 8, 9])"
      ]
     },
     "execution_count": 34,
     "metadata": {},
     "output_type": "execute_result"
    }
   ],
   "source": [
    "# Concatenación de arrays unidimensionales\n",
    "np.concatenate([a, a, a])"
   ]
  },
  {
   "cell_type": "code",
   "execution_count": 35,
   "metadata": {},
   "outputs": [
    {
     "data": {
      "text/plain": [
       "array([[10,  1],\n",
       "       [10,  1],\n",
       "       [10,  1],\n",
       "       [10,  1]])"
      ]
     },
     "execution_count": 35,
     "metadata": {},
     "output_type": "execute_result"
    }
   ],
   "source": [
    "# Concatenación de arrays bidimensionales con mismo tamaño, por filas\n",
    "np.concatenate([a_2_2, a_2_2])"
   ]
  },
  {
   "cell_type": "code",
   "execution_count": 36,
   "metadata": {},
   "outputs": [
    {
     "data": {
      "text/plain": [
       "array([[10,  1, 10,  1],\n",
       "       [10,  1, 10,  1]])"
      ]
     },
     "execution_count": 36,
     "metadata": {},
     "output_type": "execute_result"
    }
   ],
   "source": [
    "# Lo mismo pero por columnas\n",
    "np.concatenate([a_2_2, a_2_2], axis=1)"
   ]
  },
  {
   "cell_type": "code",
   "execution_count": 37,
   "metadata": {},
   "outputs": [
    {
     "data": {
      "text/plain": [
       "array([[10,  1],\n",
       "       [10,  1],\n",
       "       [10,  1]])"
      ]
     },
     "execution_count": 37,
     "metadata": {},
     "output_type": "execute_result"
    }
   ],
   "source": [
    "# Concatenación para arrays con distintas dimensiones, en vertical\n",
    "np.vstack([a_2_2, a_2_2[0]])"
   ]
  },
  {
   "cell_type": "code",
   "execution_count": 38,
   "metadata": {},
   "outputs": [
    {
     "data": {
      "text/plain": [
       "array([[10,  1,  2,  3,  4,  5,  6,  7,  8,  9, 10,  1],\n",
       "       [10,  1,  2,  3,  4,  5,  6,  7,  8,  9, 10,  1]])"
      ]
     },
     "execution_count": 38,
     "metadata": {},
     "output_type": "execute_result"
    }
   ],
   "source": [
    "# Concatenación para arrays con distintas dimensiones, en horizontal\n",
    "np.hstack([a_2_10, a_2_2])"
   ]
  },
  {
   "cell_type": "markdown",
   "metadata": {},
   "source": [
    "Usaremos **dstack** para concatenar en la tercera dimensión.\n",
    "\n",
    "Lo contrario a la concatenación es la división, que llevaremos a cabo con **split**, **hsplit**, **vsplit** y **dsplit**"
   ]
  },
  {
   "cell_type": "code",
   "execution_count": 39,
   "metadata": {},
   "outputs": [
    {
     "name": "stdout",
     "output_type": "stream",
     "text": [
      "[0] [1 2] [3 4 5] [6 7 8 9]\n"
     ]
    }
   ],
   "source": [
    "a1, a2, a3, a4 = np.split(a, [1, 3, 6])\n",
    "print(a1, a2, a3, a4)"
   ]
  },
  {
   "cell_type": "markdown",
   "metadata": {},
   "source": [
    "## Funciones universales de NumPy\n",
    "\n",
    "La clave para que las operaciones sobre arrays de NumPy sean eficientes es usar operaciones **vectorizadas**: ejecutadas sobre un vector, aplicadas sobre cada elemento. Este tipo de operaciones están implementadas en NumPy a través de sus funciones universales (**ufuncs**).\n",
    "\n",
    "Distinguimos 2 tipos de ufuncs: unarias (una entrada) y binarias (dos).\n",
    "\n",
    "Cada vez que veamos un bucle que actúa sobre los elementos de un objeto deberemos considerar la opción de sustituirlo por una operación vectorizada."
   ]
  },
  {
   "cell_type": "code",
   "execution_count": 40,
   "metadata": {
    "scrolled": true
   },
   "outputs": [
    {
     "data": {
      "text/plain": [
       "array([0. , 0.1, 0.2, 0.3, 0.4, 0.5, 0.6, 0.7, 0.8, 0.9])"
      ]
     },
     "execution_count": 40,
     "metadata": {},
     "output_type": "execute_result"
    }
   ],
   "source": [
    "# Ejemplo con un array y un escalar\n",
    "b = a/10\n",
    "b"
   ]
  },
  {
   "cell_type": "code",
   "execution_count": 41,
   "metadata": {},
   "outputs": [
    {
     "data": {
      "text/plain": [
       "array([0. , 1.1, 2.2, 3.3, 4.4, 5.5, 6.6, 7.7, 8.8, 9.9])"
      ]
     },
     "execution_count": 41,
     "metadata": {},
     "output_type": "execute_result"
    }
   ],
   "source": [
    "# Ejemplo con 2 arrays\n",
    "a + b"
   ]
  },
  {
   "cell_type": "markdown",
   "metadata": {},
   "source": [
    "Podemos mejorar el rendimiento de una operación especificando el array de salida de la misma, en lugar de hacer una asignación; de esa manera nos ahorraremos la creación de un array temporal y la copia de sus elementos al array final"
   ]
  },
  {
   "cell_type": "code",
   "execution_count": 42,
   "metadata": {},
   "outputs": [
    {
     "name": "stdout",
     "output_type": "stream",
     "text": [
      "[ 1.  0.  2.  0.  4.  0.  8.  0. 16.  0.]\n"
     ]
    }
   ],
   "source": [
    "# Ejemplo\n",
    "y = np.zeros(10)\n",
    "np.power(2, a[0:5], out=y[::2]) # más eficiente que y[::2] = np.power(2, a[0:5])\n",
    "print(y)"
   ]
  },
  {
   "cell_type": "markdown",
   "metadata": {},
   "source": [
    "### Funciones aritméticas\n",
    "Todas las operaciones aritméticas nativas de Python están soportadas por NumPy, y se pueden escribir de dos formas (si usamos la primera, internamente se aplica la de NumPy por haber arrays de por medio):\n",
    "\n",
    " * `+` = np.add()\n",
    " * `-` = np.subtract()\n",
    " * `-` = np.negative()\n",
    " * `*` = np.multiply()\n",
    " * `/` = np.divide()\n",
    " * `//` = np.floor_divide()\n",
    " * `**` = np.power()\n",
    " * `%` = np.mod()"
   ]
  },
  {
   "cell_type": "markdown",
   "metadata": {},
   "source": [
    "### Operadores de comparación\n",
    "\n",
    "Con NumPy tenemos también los operadores de comparación optimizados:\n",
    "\n",
    " * `<` = np.less()\n",
    " * `>` = np.greater()\n",
    " * `<=` = np.less_equal()\n",
    " * `>=` = np.greater_equal()\n",
    " * `==` = np.equal\n",
    " * `!=` = np.not_equal()\n",
    "\n",
    "Podremos comparar todos los elementos de un array con un escalar, o los elementos de 2 arrays uno a uno. El resultado en ambos casos será un **array booleano**, para los que NumPy también tiene funciones útiles."
   ]
  },
  {
   "cell_type": "code",
   "execution_count": 43,
   "metadata": {},
   "outputs": [
    {
     "data": {
      "text/plain": [
       "array([[ True, False, False, False, False, False,  True,  True,  True,\n",
       "         True],\n",
       "       [ True, False, False, False, False, False,  True,  True,  True,\n",
       "         True]])"
      ]
     },
     "execution_count": 43,
     "metadata": {},
     "output_type": "execute_result"
    }
   ],
   "source": [
    "a_2_10 > 5"
   ]
  },
  {
   "cell_type": "markdown",
   "metadata": {},
   "source": [
    "Podemos hacer **enmascarado** para quedarnos con los elementos que cumplen una condición. Para ello usaremos los corchetes igual que en cualquier selección, y pasaremos como parámetro un array booleano resultado de aplicar una condición:"
   ]
  },
  {
   "cell_type": "code",
   "execution_count": 44,
   "metadata": {},
   "outputs": [
    {
     "data": {
      "text/plain": [
       "array([10,  6,  7,  8,  9, 10,  6,  7,  8,  9])"
      ]
     },
     "execution_count": 44,
     "metadata": {},
     "output_type": "execute_result"
    }
   ],
   "source": [
    "a_2_10[a_2_10 > 5]"
   ]
  },
  {
   "cell_type": "markdown",
   "metadata": {},
   "source": [
    "### Operadores booleanos\n",
    "\n",
    "NumPy define los siguientes operadores lógicos a nivel de elemento para los arrays booleanos\n",
    "\n",
    " * `&` = np.bitwise_and()\n",
    " * `|` = np.bitwise_or()\n",
    " * `^` : np.bitwise_xor()\n",
    " * `~` : np.bitwise_not()\n",
    " \n",
    "Si escribimos **and** y **or** estaremos usando los operadores de Python, a nivel de objeto (con arrays obtendríamos un error).\n",
    " \n",
    "### Funciones para arrays booleanos\n",
    "\n",
    " * `np.count_nonzero(x)` : cuenta los True del array # equivale a np.sum(x) porque True = 1 y False = 0.\n",
    " * `np.count_nonzero(x, axis=n)` : cuenta los True del array eliminando la dimensión n (0: filas)\n",
    " * `np.any(x [,axis=n])` : OR\n",
    " * `np.all(x [,axis=n])` : AND"
   ]
  },
  {
   "cell_type": "markdown",
   "metadata": {},
   "source": [
    "### Valor absoluto\n",
    "\n",
    " * `np.absolute(x)` | `np.abs(x)`"
   ]
  },
  {
   "cell_type": "code",
   "execution_count": 45,
   "metadata": {},
   "outputs": [
    {
     "data": {
      "text/plain": [
       "array([2, 1, 0, 1, 2])"
      ]
     },
     "execution_count": 45,
     "metadata": {},
     "output_type": "execute_result"
    }
   ],
   "source": [
    "# Ejemplo array de enteros\n",
    "np.absolute(np.arange(-2, 3))"
   ]
  },
  {
   "cell_type": "code",
   "execution_count": 46,
   "metadata": {},
   "outputs": [
    {
     "data": {
      "text/plain": [
       "array([1.41421356, 2.23606798, 1.        , 1.        ])"
      ]
     },
     "execution_count": 46,
     "metadata": {},
     "output_type": "execute_result"
    }
   ],
   "source": [
    "# Ejemplo array complejo\n",
    "np.abs(np.array([1 - 1j, -1 - 2j, 1 + 0j, 0 + 1j]))"
   ]
  },
  {
   "cell_type": "markdown",
   "metadata": {},
   "source": [
    "### Funciones trigonométricas\n",
    "\n",
    " * `np.sin(x)` : seno\n",
    " * `np.cos(x)` : coseno\n",
    " * `np.tan(x)` : tangente\n",
    " \n",
    " \n",
    " * `np.arcsin(x)` : arco seno\n",
    " * `np.arccos(x)` : arco coseno\n",
    " * `np.arctan(x)` : arco tangente"
   ]
  },
  {
   "cell_type": "markdown",
   "metadata": {},
   "source": [
    "### Funciones exponenciales y logarítmicas\n",
    "\n",
    " * `np.exp(x)` : e\\*\\*x\n",
    " * `np.expm1(x)` : e\\*\\*x - 1 # para x ~ 0\n",
    " * `np.exp2(x)` : 2\\*\\*x \n",
    " * `np.power(base, x)` : base\\*\\*x\n",
    " \n",
    " \n",
    " * `np.log(x)` : ln(x)\n",
    " * `np.log1p(x)` : ln(1 + x) # para x ~ 0\n",
    " * `np.log10(x)` : log10(x)\n",
    " * `np.log2(x)` : log2(x)"
   ]
  },
  {
   "cell_type": "markdown",
   "metadata": {},
   "source": [
    "### Funciones especializadas\n",
    "NumPy tiene muchas más funciones para todo tipo de operaciones matemáticas (ver documentación). Y si queremos alguna función más específica, es muy posible que la podamos encontrar ya disponible en el módulo **scipy.special**."
   ]
  },
  {
   "cell_type": "code",
   "execution_count": 47,
   "metadata": {},
   "outputs": [
    {
     "name": "stdout",
     "output_type": "stream",
     "text": [
      "special.gamma(b) = [       inf 9.5135077  4.59084371 2.99156899 2.21815954 1.77245385\n",
      " 1.48919225 1.29805533 1.16422971 1.0686287 ]\n",
      "special.erf(b) = [0.         0.11246292 0.22270259 0.32862676 0.42839236 0.52049988\n",
      " 0.60385609 0.67780119 0.74210096 0.79690821]\n"
     ]
    }
   ],
   "source": [
    "from scipy import special\n",
    "\n",
    "#Ejemplos\n",
    "print('special.gamma(b) =', special.gamma(b))\n",
    "print('special.erf(b) =', special.erf(b))"
   ]
  },
  {
   "cell_type": "markdown",
   "metadata": {},
   "source": [
    "### Agregados\n",
    "Aparte de poder realizar operaciones de un array con un escalar, o de un array con otro array, podemos usar operaciones entre los propios elementos de un array. Podremos aplicar cualquier ufunc binaria (con dos entradas) usando el método **reduce** y aplicaremos la operación: a los 2 primeros elementos, a su resultado con el tercero, a este resultado con el cuarto, etc."
   ]
  },
  {
   "cell_type": "code",
   "execution_count": 48,
   "metadata": {},
   "outputs": [
    {
     "data": {
      "text/plain": [
       "-45"
      ]
     },
     "execution_count": 48,
     "metadata": {},
     "output_type": "execute_result"
    }
   ],
   "source": [
    "# Ejemplo con la operación resta\n",
    "np.subtract.reduce(a)"
   ]
  },
  {
   "cell_type": "markdown",
   "metadata": {},
   "source": [
    "Si en vez de obtener un resultado final lo que buscamos es obtener un array con todos los resultados parciales, usaremos **accumulate**"
   ]
  },
  {
   "cell_type": "code",
   "execution_count": 49,
   "metadata": {},
   "outputs": [
    {
     "data": {
      "text/plain": [
       "array([  0,  -1,  -3,  -6, -10, -15, -21, -28, -36, -45], dtype=int32)"
      ]
     },
     "execution_count": 49,
     "metadata": {},
     "output_type": "execute_result"
    }
   ],
   "source": [
    "np.subtract.accumulate(a)"
   ]
  },
  {
   "cell_type": "markdown",
   "metadata": {},
   "source": [
    "### Producto tensorial\n",
    "Obtendremos una matriz con los resultados de aplicar una operación a todas las combinaciones entre los elementos de un vector y los elementos de otro."
   ]
  },
  {
   "cell_type": "code",
   "execution_count": 50,
   "metadata": {},
   "outputs": [
    {
     "data": {
      "text/plain": [
       "array([[ 0,  0,  0,  0,  0,  0,  0,  0,  0,  0],\n",
       "       [ 0,  1,  2,  3,  4,  5,  6,  7,  8,  9],\n",
       "       [ 0,  2,  4,  6,  8, 10, 12, 14, 16, 18],\n",
       "       [ 0,  3,  6,  9, 12, 15, 18, 21, 24, 27],\n",
       "       [ 0,  4,  8, 12, 16, 20, 24, 28, 32, 36],\n",
       "       [ 0,  5, 10, 15, 20, 25, 30, 35, 40, 45],\n",
       "       [ 0,  6, 12, 18, 24, 30, 36, 42, 48, 54],\n",
       "       [ 0,  7, 14, 21, 28, 35, 42, 49, 56, 63],\n",
       "       [ 0,  8, 16, 24, 32, 40, 48, 56, 64, 72],\n",
       "       [ 0,  9, 18, 27, 36, 45, 54, 63, 72, 81]])"
      ]
     },
     "execution_count": 50,
     "metadata": {},
     "output_type": "execute_result"
    }
   ],
   "source": [
    "np.multiply.outer(a, a)"
   ]
  },
  {
   "cell_type": "markdown",
   "metadata": {},
   "source": [
    "## Agregaciones\n",
    "\n",
    "NumPy cuenta con funciones agregadoras optimizadas para el estudio estadístico de los datasets:\n",
    "\n",
    " * Suma: `x.sum()` = np.sum(x)\n",
    " * Máximo: `x.max()` = np.max(x)\n",
    " * Mínimo: `x.min()` = np.min(x)\n",
    " * Producto: `x.prod()` = np.prod(x)\n",
    " * Media: `x.mean()` = np.mean(x)\n",
    " * Desviación: `x.std()` = np.std(x)\n",
    " * Varianza: `x.var()` = np.var(x)\n",
    " * Índice máximo: `x.argmax()` = np.argmax(x)\n",
    " * Índice mínimo: `x.argmin()` = np.argmin(x)\n",
    " * Mediana: `x.median()` = np.median(x)\n",
    " * Percentil: `x.percentile(percentage)` = np.percentile(x, percentage) _# x.percentile(50) = x.median()_\n",
    " * OR: `x.any()` = np.any(x)\n",
    " * AND: `x.all()` = np.all(x)\n",
    " \n",
    " Existe una versión segura de cada función (menos de las dos últimas), usando el prefijo `nan`. Dichas funciones ignorarán los valores \"faltantes\", representados por el valor **NaN**.\n",
    " \n",
    " NOTA: hay que tener cuidado de poner **np.** delante, o se ejecutarán las funciones de Python.\n",
    " \n",
    " Estas funciones son aplicables a arrays de cualquier dimensión, con parámetros añadidos:"
   ]
  },
  {
   "cell_type": "code",
   "execution_count": 51,
   "metadata": {},
   "outputs": [
    {
     "data": {
      "text/plain": [
       "array([10.,  1.])"
      ]
     },
     "execution_count": 51,
     "metadata": {},
     "output_type": "execute_result"
    }
   ],
   "source": [
    "# Operación aplicada a columnas\n",
    "a_2_2.mean(axis=0) # axis especifica la dimensión que será eliminada; en este caso las filas"
   ]
  },
  {
   "cell_type": "code",
   "execution_count": 52,
   "metadata": {},
   "outputs": [
    {
     "data": {
      "text/plain": [
       "array([5.5, 5.5])"
      ]
     },
     "execution_count": 52,
     "metadata": {},
     "output_type": "execute_result"
    }
   ],
   "source": [
    "# Operación aplicada a filas\n",
    "a_2_2.mean(axis=1)"
   ]
  },
  {
   "cell_type": "markdown",
   "metadata": {},
   "source": [
    "## Broadcasting\n",
    "El primer motivo que vimos para vectorizar operaciones era evitar el uso de bucles. El segundo motivo es usar la funcionalidad de broadcasting de NumPy.\n",
    "\n",
    "Broadcasting es simplemente un conjunto de reglas para aplicar ufuncs binarias sobre arrays de distintos tamaños, donde las operaciones no se pueden aplicar elemento a elemento."
   ]
  },
  {
   "cell_type": "code",
   "execution_count": 53,
   "metadata": {},
   "outputs": [
    {
     "data": {
      "text/plain": [
       "array([[12,  2],\n",
       "       [12,  2]])"
      ]
     },
     "execution_count": 53,
     "metadata": {},
     "output_type": "execute_result"
    }
   ],
   "source": [
    "# Ejemplo: suma de un array 2x2 y uno 1x2 \n",
    "a_2_2 + np.array([2, 1])"
   ]
  },
  {
   "cell_type": "markdown",
   "metadata": {},
   "source": [
    "En el anterior ejemplo, podemos pensar que el array 1x2 ha sido \"difundido\" (broadcasted) para conformar una matriz 2x2. \n",
    "\n",
    "Las **reglas** del broadcasting en NumPy:\n",
    "\n",
    "1. Si los 2 arrays difieren en el nº de **dimensiones**, se amplían las del pequeño, añadiendo un 1 a la izquierda\n",
    "```\n",
    "a : (3, 1)\n",
    "b : (3) -> (1, 3)\n",
    "```\n",
    "2. Si en alguna dimensión los 2 arrays difieren en el nº de elementos, y el array con menos elementos tiene **exactamente 1** (si es mayor obtendremos un error), se difunde hasta igualar el tamaño del otro.\n",
    "```\n",
    "a : (3, 1) -> (3, 3)\n",
    "b : (1, 3) -> (3, 3)\n",
    "```"
   ]
  },
  {
   "cell_type": "code",
   "execution_count": 54,
   "metadata": {},
   "outputs": [
    {
     "name": "stdout",
     "output_type": "stream",
     "text": [
      "[0 1 2]\n",
      "\n",
      "[[0]\n",
      " [1]\n",
      " [2]]\n"
     ]
    },
    {
     "data": {
      "text/plain": [
       "array([[0, 1, 2],\n",
       "       [1, 2, 3],\n",
       "       [2, 3, 4]])"
      ]
     },
     "execution_count": 54,
     "metadata": {},
     "output_type": "execute_result"
    }
   ],
   "source": [
    "# Ejemplo\n",
    "a_1_3 = np.array([0, 1, 2])\n",
    "a_3_1 = np.array([0, 1, 2])[:, np.newaxis]\n",
    "\n",
    "print(a_1_3)\n",
    "print(\"\")\n",
    "print(a_3_1)\n",
    "\n",
    "a_1_3 + a_3_1"
   ]
  },
  {
   "cell_type": "code",
   "execution_count": 55,
   "metadata": {},
   "outputs": [
    {
     "name": "stdout",
     "output_type": "stream",
     "text": [
      "operands could not be broadcast together with shapes (2,2) (3,) \n"
     ]
    }
   ],
   "source": [
    "# Ejemplo de error\n",
    "try:\n",
    "    a_2_2 + a_1_3\n",
    "except ValueError as e:\n",
    "    print(e)"
   ]
  },
  {
   "cell_type": "markdown",
   "metadata": {},
   "source": [
    "## Indexado múltiple\n",
    "\n",
    "El indexado múltiple (o \"fancy indexing\") no es otra cosa que indexar múltiples elementos de un array usando un array de índices en lugar de un sólo índice escalar."
   ]
  },
  {
   "cell_type": "code",
   "execution_count": 56,
   "metadata": {},
   "outputs": [
    {
     "data": {
      "text/plain": [
       "array([0, 2, 4])"
      ]
     },
     "execution_count": 56,
     "metadata": {},
     "output_type": "execute_result"
    }
   ],
   "source": [
    "# Ejemplo: array unidimensional. En este caso podemos pasar una lista en lugar de un array\n",
    "indices = [0, 2, 4]\n",
    "a[indices]"
   ]
  },
  {
   "cell_type": "code",
   "execution_count": 57,
   "metadata": {},
   "outputs": [
    {
     "data": {
      "text/plain": [
       "array([[0, 1],\n",
       "       [8, 9]])"
      ]
     },
     "execution_count": 57,
     "metadata": {},
     "output_type": "execute_result"
    }
   ],
   "source": [
    "# Ejemplo: array unidimensional. La salida tendrá el mismo formato que el array de índices\n",
    "indices = np.array([[0, 1], [8, 9]])\n",
    "a[indices]"
   ]
  },
  {
   "cell_type": "markdown",
   "metadata": {},
   "source": [
    "Para arrays bidimensionales, tendremos que especificar 2 parámetros separados por coma (filas, columnas). Podremos usar 2 arrays de índices (siendo aplicable el broadcasting), 1 array y un escalar (para seleccionar sólo una fila o una columna), 1 array y slicing (para seleccionar un rango), o 1 array y 1 array booleano (enmascarado)."
   ]
  },
  {
   "cell_type": "code",
   "execution_count": 58,
   "metadata": {},
   "outputs": [
    {
     "data": {
      "text/plain": [
       "array([ 0,  5, 10, 15])"
      ]
     },
     "execution_count": 58,
     "metadata": {},
     "output_type": "execute_result"
    }
   ],
   "source": [
    "# Ejemplo con 2 arrays de entrada\n",
    "a_4_4 = np.arange(16).reshape(4, 4)\n",
    "filas = [0, 1, 2, 3]\n",
    "columnas = [0, 1, 2, 3]\n",
    "a_4_4[filas, columnas]"
   ]
  },
  {
   "cell_type": "code",
   "execution_count": 59,
   "metadata": {},
   "outputs": [
    {
     "data": {
      "text/plain": [
       "array([[ 0,  4,  8, 12],\n",
       "       [ 1,  5,  9, 13]])"
      ]
     },
     "execution_count": 59,
     "metadata": {},
     "output_type": "execute_result"
    }
   ],
   "source": [
    "# Ejemplo con broadcasting. La salida tiene la misma forma que el broadcasting de los índices.\n",
    "filas = [0, 1, 2, 3]\n",
    "columnas = np.array([0, 1])[:, np.newaxis]\n",
    "a_4_4[filas, columnas]"
   ]
  },
  {
   "cell_type": "code",
   "execution_count": 60,
   "metadata": {},
   "outputs": [
    {
     "data": {
      "text/plain": [
       "array([[ 0,  1],\n",
       "       [ 4,  5],\n",
       "       [ 8,  9],\n",
       "       [12, 13]])"
      ]
     },
     "execution_count": 60,
     "metadata": {},
     "output_type": "execute_result"
    }
   ],
   "source": [
    "# Ejemplo con masking\n",
    "filas = np.array([0, 1, 2, 3])[:, np.newaxis]\n",
    "columnas = np.array([1, 1, 0, 0], dtype=np.bool)\n",
    "a_4_4[filas, columnas]"
   ]
  },
  {
   "cell_type": "markdown",
   "metadata": {},
   "source": [
    "El indexado múltiple se puede usar tanto para obtener parte de un array, como para modificarlo por asignación."
   ]
  },
  {
   "cell_type": "code",
   "execution_count": 61,
   "metadata": {},
   "outputs": [
    {
     "data": {
      "text/plain": [
       "array([10, 11,  2,  3,  4,  5,  6,  7,  8,  9])"
      ]
     },
     "execution_count": 61,
     "metadata": {},
     "output_type": "execute_result"
    }
   ],
   "source": [
    "# Ejemplo con índices repetidos\n",
    "a_copy = np.copy(a)\n",
    "indices = [0, 1, 0, 1]\n",
    "a_copy[indices] += 10\n",
    "a_copy"
   ]
  },
  {
   "cell_type": "markdown",
   "metadata": {},
   "source": [
    "Si lo que quisiéramos en realidad es que se aplicara la suma al elemento tantas veces como aparezca en los índices podemos lograrlo usando el método `at()` de las ufuncs:"
   ]
  },
  {
   "cell_type": "code",
   "execution_count": 62,
   "metadata": {},
   "outputs": [
    {
     "data": {
      "text/plain": [
       "array([12, 13,  2,  3,  4,  5,  6,  7,  8,  9])"
      ]
     },
     "execution_count": 62,
     "metadata": {},
     "output_type": "execute_result"
    }
   ],
   "source": [
    "np.add.at(a_copy, [0, 1, 0, 1], 1)\n",
    "a_copy"
   ]
  },
  {
   "cell_type": "markdown",
   "metadata": {},
   "source": [
    "## Ordenación de arrays\n",
    "\n",
    "NumPy ofrece funciones para ordenar los elementos de un array de forma mucho más eficiente que las funciones `sort` y `sorted` de Python para listas. Las funciones de NumPy son:\n",
    "\n",
    " * `np.sort(x [, index=i])` : devuelve una versión ordenada del array de entrada, usando un algoritmo quicksort O[N logN] por defecto (también disponibles mergesort y heapsort).\n",
    " * `np.argsort(x [, index=i])` : devuelve un array con los índices de los elementos ordenados\n",
    " * `np.partition(x, k [, index=i])` : devuelve los k primeros valores agrupados a la izquierda (sin orden), y el resto a la derecha (sin orden)\n",
    " * `np.argpartition(x, k [, index=i])` : devuelve un array con los índices de los elementos agrupados"
   ]
  },
  {
   "cell_type": "code",
   "execution_count": 63,
   "metadata": {},
   "outputs": [
    {
     "data": {
      "text/plain": [
       "array([0, 1, 2, 3, 4, 5, 6, 7, 9])"
      ]
     },
     "execution_count": 63,
     "metadata": {},
     "output_type": "execute_result"
    }
   ],
   "source": [
    "# Ejemplo de ordenación\n",
    "np.sort(np.array([3,7,6,9,5,1,2,4,0]))"
   ]
  },
  {
   "cell_type": "code",
   "execution_count": 64,
   "metadata": {},
   "outputs": [
    {
     "name": "stdout",
     "output_type": "stream",
     "text": [
      "[[3 3 7 0]\n",
      " [1 9 9 0]\n",
      " [4 7 3 2]\n",
      " [7 2 0 0]]\n"
     ]
    },
    {
     "data": {
      "text/plain": [
       "array([[1, 2, 0, 0],\n",
       "       [3, 3, 3, 0],\n",
       "       [4, 7, 7, 0],\n",
       "       [7, 9, 9, 2]])"
      ]
     },
     "execution_count": 64,
     "metadata": {},
     "output_type": "execute_result"
    }
   ],
   "source": [
    "# Ejemplo de ordenación con 2 dimensiones\n",
    "r = np.random.randint(0, 10, (4, 4))\n",
    "print(r)\n",
    "np.sort(r, axis=0) # 0: por columna"
   ]
  },
  {
   "cell_type": "code",
   "execution_count": 65,
   "metadata": {},
   "outputs": [
    {
     "data": {
      "text/plain": [
       "array([1, 0, 2, 3, 7, 9, 6, 4, 5])"
      ]
     },
     "execution_count": 65,
     "metadata": {},
     "output_type": "execute_result"
    }
   ],
   "source": [
    "# Ejemplo de agrupación\n",
    "np.partition(np.array([3,7,6,9,5,1,2,4,0]), 3)"
   ]
  },
  {
   "cell_type": "markdown",
   "metadata": {},
   "source": [
    "### Ejemplo: KNN (K-Nearest Neighbours)"
   ]
  },
  {
   "cell_type": "code",
   "execution_count": 66,
   "metadata": {},
   "outputs": [
    {
     "data": {
      "image/png": "[encoded data removed]",
      "text/plain": [
       "<Figure size 432x288 with 1 Axes>"
      ]
     },
     "metadata": {},
     "output_type": "display_data"
    }
   ],
   "source": [
    "%matplotlib inline\n",
    "import matplotlib.pyplot as plt\n",
    "import seaborn; seaborn.set() # styling\n",
    "\n",
    "# Generamos 15 muestras de puntos bidimensionales\n",
    "np.random.seed(42)\n",
    "data = np.random.rand(15, 2)\n",
    "\n",
    "# Los pintamos\n",
    "plt.scatter(data[:, 0], data[:, 1], s=100);"
   ]
  },
  {
   "cell_type": "code",
   "execution_count": 67,
   "metadata": {},
   "outputs": [
    {
     "data": {
      "text/plain": [
       "(15, 15, 2)"
      ]
     },
     "execution_count": 67,
     "metadata": {},
     "output_type": "execute_result"
    }
   ],
   "source": [
    "# Calculamos la distancia cuadrática de cada par de puntos como la suma de los cuadrados de las distancias.\n",
    "# Primero calculamos, para cada par de puntos, la diferencia entre sus coordenadas. Usamos broadcasting!\n",
    "differences = (data[:, np.newaxis, :] - data[np.newaxis, :, :])\n",
    "\n",
    "# Comprobamos la pinta del array\n",
    "differences.shape"
   ]
  },
  {
   "cell_type": "code",
   "execution_count": 68,
   "metadata": {},
   "outputs": [
    {
     "data": {
      "text/plain": [
       "array([0., 0., 0., 0., 0., 0., 0., 0., 0., 0., 0., 0., 0., 0., 0.])"
      ]
     },
     "execution_count": 68,
     "metadata": {},
     "output_type": "execute_result"
    }
   ],
   "source": [
    "square_dist = np.sum(differences ** 2, axis=-1) # sobre el último eje\n",
    "\n",
    "# Comprobamos la diagonal!\n",
    "square_dist.diagonal()"
   ]
  },
  {
   "cell_type": "code",
   "execution_count": 69,
   "metadata": {},
   "outputs": [
    {
     "data": {
      "image/png": "[encoded data removed]",
      "text/plain": [
       "<Figure size 432x288 with 1 Axes>"
      ]
     },
     "metadata": {
      "needs_background": "light"
     },
     "output_type": "display_data"
    }
   ],
   "source": [
    "# Obtenemos los 2 vecinos más cercanos usando argpartition\n",
    "k = 2 # Queremos 2 vecinos, así que necesitaremos 3 puntos (el primero es uno mismo!)\n",
    "nearest_partition = np.argpartition(square_dist, k+1, axis=1)\n",
    "\n",
    "# Dibujamos los puntos y las líneas que unen cada punto con sus k vecinos más cercanos\n",
    "plt.scatter(data[:, 0], data[:, 1], s=100)\n",
    "\n",
    "for i in range(data.shape[0]):\n",
    "    for j in nearest_partition[i, :k+1]:\n",
    "        plt.plot(*zip(data[j], data[i]), color='black')"
   ]
  },
  {
   "cell_type": "markdown",
   "metadata": {},
   "source": [
    "## Arrays estructurados\n",
    "\n",
    "NumPy soporta arrays para datasets heterogéneos, aunque para ese tipo de datos es muy recomendable usar los Dataframes de pandas :)"
   ]
  }
 ],
 "metadata": {
  "kernelspec": {
   "display_name": "Python 3",
   "language": "python",
   "name": "python3"
  },
  "language_info": {
   "codemirror_mode": {
    "name": "ipython",
    "version": 3
   },
   "file_extension": ".py",
   "mimetype": "text/x-python",
   "name": "python",
   "nbconvert_exporter": "python",
   "pygments_lexer": "ipython3",
   "version": "3.7.2"
  },
  "toc": {
   "base_numbering": "0",
   "nav_menu": {},
   "number_sections": true,
   "sideBar": true,
   "skip_h1_title": false,
   "title_cell": "Mis notas: NumPy",
   "title_sidebar": "Contents",
   "toc_cell": true,
   "toc_position": {},
   "toc_section_display": true,
   "toc_window_display": true
  }
 },
 "nbformat": 4,
 "nbformat_minor": 2
}
